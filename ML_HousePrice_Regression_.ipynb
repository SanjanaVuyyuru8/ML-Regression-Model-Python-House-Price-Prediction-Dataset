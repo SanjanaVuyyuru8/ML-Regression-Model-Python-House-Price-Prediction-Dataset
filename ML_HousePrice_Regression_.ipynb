{
 "cells": [
  {
   "cell_type": "markdown",
   "metadata": {},
   "source": [
    "# House Price Dataset\n",
    "\n",
    "### Models used with hyperparameters :\n",
    "\n",
    "Linear Regression\n",
    "\n",
    "KNN Regression(No. of neighbors and metric)\n",
    "\n",
    "Ridge (Alpha)\n",
    "\n",
    "Lasso (Alpha)\n",
    "\n",
    "Polynomial Regression( polynomialfeatures__degree,polynomialfeatures__interaction_only)\n",
    "\n",
    "SVM Models : Linear (C) rbf (C, gamma) Sigmoid (C, gamma) Polynomial (C, degree, gamma)\n",
    "\n",
    "Decision Tree (max_depth, splitter)\n",
    "\n",
    "Stochastic Gradient Descent (eta, penalty, alpha)\n",
    "\n",
    "Elastic Net (Alpha, L1 ratio)\n",
    "\n",
    "Bagging : Decision Tree (base_estimator__max_depth,max_samples, n_estimators) Lasso Regression (base_estimator__alpha)\n",
    "\n",
    "Pasting : Decision Tree (base_estimator__max_depth,max_samples, n_estimators) Logistic Regression (base_estimator__alpha)\n",
    "\n",
    "Random Forests (n_estimators, max_features,max_depth,criterion)\n",
    "\n",
    "Ada Boost (base_estimator__criterion, base_estimator__splitter,base_estimator__max_depth, n_estimators,learning_rate)\n",
    "\n",
    "Gradient Boost (max_depth, n_estimators, learning_rate)\n",
    "\n",
    "Extra Trees (n_estimators,max_features, max_depth,criterion)\n",
    "\n",
    "XG Boost ('max_depth,n_estimators,learning_rate,min_child_weight,subsample)\n",
    "\n",
    "### XGBoost Classifier is the best model as the cross validation score is high and the difference between train score and test score is less.\n",
    "\n",
    "Best model based on Scoring Method = Accuracy\n",
    "\n",
    "The best model choosen based on CV score (0.85) is : XG Boost.\n",
    "\n",
    "Best Mean Cross Validation Score is 0.9071588881611858\n",
    "\n",
    "Parameters for the model {n_estimators=80, max_depth=6, learning_rate=0.1, objective='reg:squarederror'}\n",
    "\n",
    "Train score is 0.9089649260328002\n",
    "\n",
    "Test score is 0.8909787231834181"
   ]
  },
  {
   "cell_type": "markdown",
   "metadata": {},
   "source": [
    "### Importing Libraries"
   ]
  },
  {
   "cell_type": "code",
   "execution_count": 1,
   "metadata": {},
   "outputs": [
    {
     "name": "stdout",
     "output_type": "stream",
     "text": [
      "Requirement already satisfied: feature-engine in c:\\users\\vuyyu\\anaconda3\\lib\\site-packages (0.6.0)\n",
      "Requirement already satisfied: scikit-learn>=0.22.2 in c:\\users\\vuyyu\\anaconda3\\lib\\site-packages (from feature-engine) (0.23.2)\n",
      "Requirement already satisfied: scipy>=1.4.1 in c:\\users\\vuyyu\\anaconda3\\lib\\site-packages (from feature-engine) (1.5.2)\n",
      "Requirement already satisfied: pandas>=1.0.3 in c:\\users\\vuyyu\\anaconda3\\lib\\site-packages (from feature-engine) (1.1.2)\n",
      "Requirement already satisfied: numpy>=1.18.2 in c:\\users\\vuyyu\\anaconda3\\lib\\site-packages (from feature-engine) (1.19.2)\n",
      "Requirement already satisfied: statsmodels>=0.11.1 in c:\\users\\vuyyu\\anaconda3\\lib\\site-packages (from feature-engine) (0.12.0)\n",
      "Requirement already satisfied: joblib>=0.11 in c:\\users\\vuyyu\\anaconda3\\lib\\site-packages (from scikit-learn>=0.22.2->feature-engine) (0.13.2)\n",
      "Requirement already satisfied: threadpoolctl>=2.0.0 in c:\\users\\vuyyu\\anaconda3\\lib\\site-packages (from scikit-learn>=0.22.2->feature-engine) (2.1.0)\n",
      "Requirement already satisfied: python-dateutil>=2.7.3 in c:\\users\\vuyyu\\anaconda3\\lib\\site-packages (from pandas>=1.0.3->feature-engine) (2.8.0)\n",
      "Requirement already satisfied: pytz>=2017.2 in c:\\users\\vuyyu\\anaconda3\\lib\\site-packages (from pandas>=1.0.3->feature-engine) (2019.3)\n",
      "Requirement already satisfied: patsy>=0.5 in c:\\users\\vuyyu\\anaconda3\\lib\\site-packages (from statsmodels>=0.11.1->feature-engine) (0.5.1)\n",
      "Requirement already satisfied: six>=1.5 in c:\\users\\vuyyu\\anaconda3\\lib\\site-packages (from python-dateutil>=2.7.3->pandas>=1.0.3->feature-engine) (1.12.0)\n"
     ]
    }
   ],
   "source": [
    "!pip install feature-engine"
   ]
  },
  {
   "cell_type": "code",
   "execution_count": 2,
   "metadata": {},
   "outputs": [],
   "source": [
    "from math import sqrt\n",
    "import pandas as pd\n",
    "import numpy as np\n",
    "import matplotlib.pyplot as plt\n",
    "import seaborn as sns\n",
    "import scipy.stats as stats\n",
    "from pathlib import Path\n",
    "\n",
    "pd.pandas.set_option('display.max_columns', None)\n",
    "%matplotlib inline"
   ]
  },
  {
   "cell_type": "markdown",
   "metadata": {},
   "source": [
    "### Importing the data set"
   ]
  },
  {
   "cell_type": "code",
   "execution_count": 3,
   "metadata": {},
   "outputs": [
    {
     "data": {
      "text/html": [
       "<div>\n",
       "<style scoped>\n",
       "    .dataframe tbody tr th:only-of-type {\n",
       "        vertical-align: middle;\n",
       "    }\n",
       "\n",
       "    .dataframe tbody tr th {\n",
       "        vertical-align: top;\n",
       "    }\n",
       "\n",
       "    .dataframe thead th {\n",
       "        text-align: right;\n",
       "    }\n",
       "</style>\n",
       "<table border=\"1\" class=\"dataframe\">\n",
       "  <thead>\n",
       "    <tr style=\"text-align: right;\">\n",
       "      <th></th>\n",
       "      <th>Id</th>\n",
       "      <th>MSSubClass</th>\n",
       "      <th>MSZoning</th>\n",
       "      <th>LotFrontage</th>\n",
       "      <th>LotArea</th>\n",
       "      <th>Street</th>\n",
       "      <th>Alley</th>\n",
       "      <th>LotShape</th>\n",
       "      <th>LandContour</th>\n",
       "      <th>Utilities</th>\n",
       "      <th>LotConfig</th>\n",
       "      <th>LandSlope</th>\n",
       "      <th>Neighborhood</th>\n",
       "      <th>Condition1</th>\n",
       "      <th>Condition2</th>\n",
       "      <th>BldgType</th>\n",
       "      <th>HouseStyle</th>\n",
       "      <th>OverallQual</th>\n",
       "      <th>OverallCond</th>\n",
       "      <th>YearBuilt</th>\n",
       "      <th>YearRemodAdd</th>\n",
       "      <th>RoofStyle</th>\n",
       "      <th>RoofMatl</th>\n",
       "      <th>Exterior1st</th>\n",
       "      <th>Exterior2nd</th>\n",
       "      <th>MasVnrType</th>\n",
       "      <th>MasVnrArea</th>\n",
       "      <th>ExterQual</th>\n",
       "      <th>ExterCond</th>\n",
       "      <th>Foundation</th>\n",
       "      <th>BsmtQual</th>\n",
       "      <th>BsmtCond</th>\n",
       "      <th>BsmtExposure</th>\n",
       "      <th>BsmtFinType1</th>\n",
       "      <th>BsmtFinSF1</th>\n",
       "      <th>BsmtFinType2</th>\n",
       "      <th>BsmtFinSF2</th>\n",
       "      <th>BsmtUnfSF</th>\n",
       "      <th>TotalBsmtSF</th>\n",
       "      <th>Heating</th>\n",
       "      <th>HeatingQC</th>\n",
       "      <th>CentralAir</th>\n",
       "      <th>Electrical</th>\n",
       "      <th>1stFlrSF</th>\n",
       "      <th>2ndFlrSF</th>\n",
       "      <th>LowQualFinSF</th>\n",
       "      <th>GrLivArea</th>\n",
       "      <th>BsmtFullBath</th>\n",
       "      <th>BsmtHalfBath</th>\n",
       "      <th>FullBath</th>\n",
       "      <th>HalfBath</th>\n",
       "      <th>BedroomAbvGr</th>\n",
       "      <th>KitchenAbvGr</th>\n",
       "      <th>KitchenQual</th>\n",
       "      <th>TotRmsAbvGrd</th>\n",
       "      <th>Functional</th>\n",
       "      <th>Fireplaces</th>\n",
       "      <th>FireplaceQu</th>\n",
       "      <th>GarageType</th>\n",
       "      <th>GarageYrBlt</th>\n",
       "      <th>GarageFinish</th>\n",
       "      <th>GarageCars</th>\n",
       "      <th>GarageArea</th>\n",
       "      <th>GarageQual</th>\n",
       "      <th>GarageCond</th>\n",
       "      <th>PavedDrive</th>\n",
       "      <th>WoodDeckSF</th>\n",
       "      <th>OpenPorchSF</th>\n",
       "      <th>EnclosedPorch</th>\n",
       "      <th>3SsnPorch</th>\n",
       "      <th>ScreenPorch</th>\n",
       "      <th>PoolArea</th>\n",
       "      <th>PoolQC</th>\n",
       "      <th>Fence</th>\n",
       "      <th>MiscFeature</th>\n",
       "      <th>MiscVal</th>\n",
       "      <th>MoSold</th>\n",
       "      <th>YrSold</th>\n",
       "      <th>SaleType</th>\n",
       "      <th>SaleCondition</th>\n",
       "      <th>SalePrice</th>\n",
       "    </tr>\n",
       "  </thead>\n",
       "  <tbody>\n",
       "    <tr>\n",
       "      <th>0</th>\n",
       "      <td>1</td>\n",
       "      <td>60</td>\n",
       "      <td>RL</td>\n",
       "      <td>65.0</td>\n",
       "      <td>8450</td>\n",
       "      <td>Pave</td>\n",
       "      <td>NaN</td>\n",
       "      <td>Reg</td>\n",
       "      <td>Lvl</td>\n",
       "      <td>AllPub</td>\n",
       "      <td>Inside</td>\n",
       "      <td>Gtl</td>\n",
       "      <td>CollgCr</td>\n",
       "      <td>Norm</td>\n",
       "      <td>Norm</td>\n",
       "      <td>1Fam</td>\n",
       "      <td>2Story</td>\n",
       "      <td>7</td>\n",
       "      <td>5</td>\n",
       "      <td>2003</td>\n",
       "      <td>2003</td>\n",
       "      <td>Gable</td>\n",
       "      <td>CompShg</td>\n",
       "      <td>VinylSd</td>\n",
       "      <td>VinylSd</td>\n",
       "      <td>BrkFace</td>\n",
       "      <td>196.0</td>\n",
       "      <td>Gd</td>\n",
       "      <td>TA</td>\n",
       "      <td>PConc</td>\n",
       "      <td>Gd</td>\n",
       "      <td>TA</td>\n",
       "      <td>No</td>\n",
       "      <td>GLQ</td>\n",
       "      <td>706</td>\n",
       "      <td>Unf</td>\n",
       "      <td>0</td>\n",
       "      <td>150</td>\n",
       "      <td>856</td>\n",
       "      <td>GasA</td>\n",
       "      <td>Ex</td>\n",
       "      <td>Y</td>\n",
       "      <td>SBrkr</td>\n",
       "      <td>856</td>\n",
       "      <td>854</td>\n",
       "      <td>0</td>\n",
       "      <td>1710</td>\n",
       "      <td>1</td>\n",
       "      <td>0</td>\n",
       "      <td>2</td>\n",
       "      <td>1</td>\n",
       "      <td>3</td>\n",
       "      <td>1</td>\n",
       "      <td>Gd</td>\n",
       "      <td>8</td>\n",
       "      <td>Typ</td>\n",
       "      <td>0</td>\n",
       "      <td>NaN</td>\n",
       "      <td>Attchd</td>\n",
       "      <td>2003.0</td>\n",
       "      <td>RFn</td>\n",
       "      <td>2</td>\n",
       "      <td>548</td>\n",
       "      <td>TA</td>\n",
       "      <td>TA</td>\n",
       "      <td>Y</td>\n",
       "      <td>0</td>\n",
       "      <td>61</td>\n",
       "      <td>0</td>\n",
       "      <td>0</td>\n",
       "      <td>0</td>\n",
       "      <td>0</td>\n",
       "      <td>NaN</td>\n",
       "      <td>NaN</td>\n",
       "      <td>NaN</td>\n",
       "      <td>0</td>\n",
       "      <td>2</td>\n",
       "      <td>2008</td>\n",
       "      <td>WD</td>\n",
       "      <td>Normal</td>\n",
       "      <td>208500</td>\n",
       "    </tr>\n",
       "    <tr>\n",
       "      <th>1</th>\n",
       "      <td>2</td>\n",
       "      <td>20</td>\n",
       "      <td>RL</td>\n",
       "      <td>80.0</td>\n",
       "      <td>9600</td>\n",
       "      <td>Pave</td>\n",
       "      <td>NaN</td>\n",
       "      <td>Reg</td>\n",
       "      <td>Lvl</td>\n",
       "      <td>AllPub</td>\n",
       "      <td>FR2</td>\n",
       "      <td>Gtl</td>\n",
       "      <td>Veenker</td>\n",
       "      <td>Feedr</td>\n",
       "      <td>Norm</td>\n",
       "      <td>1Fam</td>\n",
       "      <td>1Story</td>\n",
       "      <td>6</td>\n",
       "      <td>8</td>\n",
       "      <td>1976</td>\n",
       "      <td>1976</td>\n",
       "      <td>Gable</td>\n",
       "      <td>CompShg</td>\n",
       "      <td>MetalSd</td>\n",
       "      <td>MetalSd</td>\n",
       "      <td>None</td>\n",
       "      <td>0.0</td>\n",
       "      <td>TA</td>\n",
       "      <td>TA</td>\n",
       "      <td>CBlock</td>\n",
       "      <td>Gd</td>\n",
       "      <td>TA</td>\n",
       "      <td>Gd</td>\n",
       "      <td>ALQ</td>\n",
       "      <td>978</td>\n",
       "      <td>Unf</td>\n",
       "      <td>0</td>\n",
       "      <td>284</td>\n",
       "      <td>1262</td>\n",
       "      <td>GasA</td>\n",
       "      <td>Ex</td>\n",
       "      <td>Y</td>\n",
       "      <td>SBrkr</td>\n",
       "      <td>1262</td>\n",
       "      <td>0</td>\n",
       "      <td>0</td>\n",
       "      <td>1262</td>\n",
       "      <td>0</td>\n",
       "      <td>1</td>\n",
       "      <td>2</td>\n",
       "      <td>0</td>\n",
       "      <td>3</td>\n",
       "      <td>1</td>\n",
       "      <td>TA</td>\n",
       "      <td>6</td>\n",
       "      <td>Typ</td>\n",
       "      <td>1</td>\n",
       "      <td>TA</td>\n",
       "      <td>Attchd</td>\n",
       "      <td>1976.0</td>\n",
       "      <td>RFn</td>\n",
       "      <td>2</td>\n",
       "      <td>460</td>\n",
       "      <td>TA</td>\n",
       "      <td>TA</td>\n",
       "      <td>Y</td>\n",
       "      <td>298</td>\n",
       "      <td>0</td>\n",
       "      <td>0</td>\n",
       "      <td>0</td>\n",
       "      <td>0</td>\n",
       "      <td>0</td>\n",
       "      <td>NaN</td>\n",
       "      <td>NaN</td>\n",
       "      <td>NaN</td>\n",
       "      <td>0</td>\n",
       "      <td>5</td>\n",
       "      <td>2007</td>\n",
       "      <td>WD</td>\n",
       "      <td>Normal</td>\n",
       "      <td>181500</td>\n",
       "    </tr>\n",
       "    <tr>\n",
       "      <th>2</th>\n",
       "      <td>3</td>\n",
       "      <td>60</td>\n",
       "      <td>RL</td>\n",
       "      <td>68.0</td>\n",
       "      <td>11250</td>\n",
       "      <td>Pave</td>\n",
       "      <td>NaN</td>\n",
       "      <td>IR1</td>\n",
       "      <td>Lvl</td>\n",
       "      <td>AllPub</td>\n",
       "      <td>Inside</td>\n",
       "      <td>Gtl</td>\n",
       "      <td>CollgCr</td>\n",
       "      <td>Norm</td>\n",
       "      <td>Norm</td>\n",
       "      <td>1Fam</td>\n",
       "      <td>2Story</td>\n",
       "      <td>7</td>\n",
       "      <td>5</td>\n",
       "      <td>2001</td>\n",
       "      <td>2002</td>\n",
       "      <td>Gable</td>\n",
       "      <td>CompShg</td>\n",
       "      <td>VinylSd</td>\n",
       "      <td>VinylSd</td>\n",
       "      <td>BrkFace</td>\n",
       "      <td>162.0</td>\n",
       "      <td>Gd</td>\n",
       "      <td>TA</td>\n",
       "      <td>PConc</td>\n",
       "      <td>Gd</td>\n",
       "      <td>TA</td>\n",
       "      <td>Mn</td>\n",
       "      <td>GLQ</td>\n",
       "      <td>486</td>\n",
       "      <td>Unf</td>\n",
       "      <td>0</td>\n",
       "      <td>434</td>\n",
       "      <td>920</td>\n",
       "      <td>GasA</td>\n",
       "      <td>Ex</td>\n",
       "      <td>Y</td>\n",
       "      <td>SBrkr</td>\n",
       "      <td>920</td>\n",
       "      <td>866</td>\n",
       "      <td>0</td>\n",
       "      <td>1786</td>\n",
       "      <td>1</td>\n",
       "      <td>0</td>\n",
       "      <td>2</td>\n",
       "      <td>1</td>\n",
       "      <td>3</td>\n",
       "      <td>1</td>\n",
       "      <td>Gd</td>\n",
       "      <td>6</td>\n",
       "      <td>Typ</td>\n",
       "      <td>1</td>\n",
       "      <td>TA</td>\n",
       "      <td>Attchd</td>\n",
       "      <td>2001.0</td>\n",
       "      <td>RFn</td>\n",
       "      <td>2</td>\n",
       "      <td>608</td>\n",
       "      <td>TA</td>\n",
       "      <td>TA</td>\n",
       "      <td>Y</td>\n",
       "      <td>0</td>\n",
       "      <td>42</td>\n",
       "      <td>0</td>\n",
       "      <td>0</td>\n",
       "      <td>0</td>\n",
       "      <td>0</td>\n",
       "      <td>NaN</td>\n",
       "      <td>NaN</td>\n",
       "      <td>NaN</td>\n",
       "      <td>0</td>\n",
       "      <td>9</td>\n",
       "      <td>2008</td>\n",
       "      <td>WD</td>\n",
       "      <td>Normal</td>\n",
       "      <td>223500</td>\n",
       "    </tr>\n",
       "    <tr>\n",
       "      <th>3</th>\n",
       "      <td>4</td>\n",
       "      <td>70</td>\n",
       "      <td>RL</td>\n",
       "      <td>60.0</td>\n",
       "      <td>9550</td>\n",
       "      <td>Pave</td>\n",
       "      <td>NaN</td>\n",
       "      <td>IR1</td>\n",
       "      <td>Lvl</td>\n",
       "      <td>AllPub</td>\n",
       "      <td>Corner</td>\n",
       "      <td>Gtl</td>\n",
       "      <td>Crawfor</td>\n",
       "      <td>Norm</td>\n",
       "      <td>Norm</td>\n",
       "      <td>1Fam</td>\n",
       "      <td>2Story</td>\n",
       "      <td>7</td>\n",
       "      <td>5</td>\n",
       "      <td>1915</td>\n",
       "      <td>1970</td>\n",
       "      <td>Gable</td>\n",
       "      <td>CompShg</td>\n",
       "      <td>Wd Sdng</td>\n",
       "      <td>Wd Shng</td>\n",
       "      <td>None</td>\n",
       "      <td>0.0</td>\n",
       "      <td>TA</td>\n",
       "      <td>TA</td>\n",
       "      <td>BrkTil</td>\n",
       "      <td>TA</td>\n",
       "      <td>Gd</td>\n",
       "      <td>No</td>\n",
       "      <td>ALQ</td>\n",
       "      <td>216</td>\n",
       "      <td>Unf</td>\n",
       "      <td>0</td>\n",
       "      <td>540</td>\n",
       "      <td>756</td>\n",
       "      <td>GasA</td>\n",
       "      <td>Gd</td>\n",
       "      <td>Y</td>\n",
       "      <td>SBrkr</td>\n",
       "      <td>961</td>\n",
       "      <td>756</td>\n",
       "      <td>0</td>\n",
       "      <td>1717</td>\n",
       "      <td>1</td>\n",
       "      <td>0</td>\n",
       "      <td>1</td>\n",
       "      <td>0</td>\n",
       "      <td>3</td>\n",
       "      <td>1</td>\n",
       "      <td>Gd</td>\n",
       "      <td>7</td>\n",
       "      <td>Typ</td>\n",
       "      <td>1</td>\n",
       "      <td>Gd</td>\n",
       "      <td>Detchd</td>\n",
       "      <td>1998.0</td>\n",
       "      <td>Unf</td>\n",
       "      <td>3</td>\n",
       "      <td>642</td>\n",
       "      <td>TA</td>\n",
       "      <td>TA</td>\n",
       "      <td>Y</td>\n",
       "      <td>0</td>\n",
       "      <td>35</td>\n",
       "      <td>272</td>\n",
       "      <td>0</td>\n",
       "      <td>0</td>\n",
       "      <td>0</td>\n",
       "      <td>NaN</td>\n",
       "      <td>NaN</td>\n",
       "      <td>NaN</td>\n",
       "      <td>0</td>\n",
       "      <td>2</td>\n",
       "      <td>2006</td>\n",
       "      <td>WD</td>\n",
       "      <td>Abnorml</td>\n",
       "      <td>140000</td>\n",
       "    </tr>\n",
       "    <tr>\n",
       "      <th>4</th>\n",
       "      <td>5</td>\n",
       "      <td>60</td>\n",
       "      <td>RL</td>\n",
       "      <td>84.0</td>\n",
       "      <td>14260</td>\n",
       "      <td>Pave</td>\n",
       "      <td>NaN</td>\n",
       "      <td>IR1</td>\n",
       "      <td>Lvl</td>\n",
       "      <td>AllPub</td>\n",
       "      <td>FR2</td>\n",
       "      <td>Gtl</td>\n",
       "      <td>NoRidge</td>\n",
       "      <td>Norm</td>\n",
       "      <td>Norm</td>\n",
       "      <td>1Fam</td>\n",
       "      <td>2Story</td>\n",
       "      <td>8</td>\n",
       "      <td>5</td>\n",
       "      <td>2000</td>\n",
       "      <td>2000</td>\n",
       "      <td>Gable</td>\n",
       "      <td>CompShg</td>\n",
       "      <td>VinylSd</td>\n",
       "      <td>VinylSd</td>\n",
       "      <td>BrkFace</td>\n",
       "      <td>350.0</td>\n",
       "      <td>Gd</td>\n",
       "      <td>TA</td>\n",
       "      <td>PConc</td>\n",
       "      <td>Gd</td>\n",
       "      <td>TA</td>\n",
       "      <td>Av</td>\n",
       "      <td>GLQ</td>\n",
       "      <td>655</td>\n",
       "      <td>Unf</td>\n",
       "      <td>0</td>\n",
       "      <td>490</td>\n",
       "      <td>1145</td>\n",
       "      <td>GasA</td>\n",
       "      <td>Ex</td>\n",
       "      <td>Y</td>\n",
       "      <td>SBrkr</td>\n",
       "      <td>1145</td>\n",
       "      <td>1053</td>\n",
       "      <td>0</td>\n",
       "      <td>2198</td>\n",
       "      <td>1</td>\n",
       "      <td>0</td>\n",
       "      <td>2</td>\n",
       "      <td>1</td>\n",
       "      <td>4</td>\n",
       "      <td>1</td>\n",
       "      <td>Gd</td>\n",
       "      <td>9</td>\n",
       "      <td>Typ</td>\n",
       "      <td>1</td>\n",
       "      <td>TA</td>\n",
       "      <td>Attchd</td>\n",
       "      <td>2000.0</td>\n",
       "      <td>RFn</td>\n",
       "      <td>3</td>\n",
       "      <td>836</td>\n",
       "      <td>TA</td>\n",
       "      <td>TA</td>\n",
       "      <td>Y</td>\n",
       "      <td>192</td>\n",
       "      <td>84</td>\n",
       "      <td>0</td>\n",
       "      <td>0</td>\n",
       "      <td>0</td>\n",
       "      <td>0</td>\n",
       "      <td>NaN</td>\n",
       "      <td>NaN</td>\n",
       "      <td>NaN</td>\n",
       "      <td>0</td>\n",
       "      <td>12</td>\n",
       "      <td>2008</td>\n",
       "      <td>WD</td>\n",
       "      <td>Normal</td>\n",
       "      <td>250000</td>\n",
       "    </tr>\n",
       "  </tbody>\n",
       "</table>\n",
       "</div>"
      ],
      "text/plain": [
       "   Id  MSSubClass MSZoning  LotFrontage  LotArea Street Alley LotShape  \\\n",
       "0   1          60       RL         65.0     8450   Pave   NaN      Reg   \n",
       "1   2          20       RL         80.0     9600   Pave   NaN      Reg   \n",
       "2   3          60       RL         68.0    11250   Pave   NaN      IR1   \n",
       "3   4          70       RL         60.0     9550   Pave   NaN      IR1   \n",
       "4   5          60       RL         84.0    14260   Pave   NaN      IR1   \n",
       "\n",
       "  LandContour Utilities LotConfig LandSlope Neighborhood Condition1  \\\n",
       "0         Lvl    AllPub    Inside       Gtl      CollgCr       Norm   \n",
       "1         Lvl    AllPub       FR2       Gtl      Veenker      Feedr   \n",
       "2         Lvl    AllPub    Inside       Gtl      CollgCr       Norm   \n",
       "3         Lvl    AllPub    Corner       Gtl      Crawfor       Norm   \n",
       "4         Lvl    AllPub       FR2       Gtl      NoRidge       Norm   \n",
       "\n",
       "  Condition2 BldgType HouseStyle  OverallQual  OverallCond  YearBuilt  \\\n",
       "0       Norm     1Fam     2Story            7            5       2003   \n",
       "1       Norm     1Fam     1Story            6            8       1976   \n",
       "2       Norm     1Fam     2Story            7            5       2001   \n",
       "3       Norm     1Fam     2Story            7            5       1915   \n",
       "4       Norm     1Fam     2Story            8            5       2000   \n",
       "\n",
       "   YearRemodAdd RoofStyle RoofMatl Exterior1st Exterior2nd MasVnrType  \\\n",
       "0          2003     Gable  CompShg     VinylSd     VinylSd    BrkFace   \n",
       "1          1976     Gable  CompShg     MetalSd     MetalSd       None   \n",
       "2          2002     Gable  CompShg     VinylSd     VinylSd    BrkFace   \n",
       "3          1970     Gable  CompShg     Wd Sdng     Wd Shng       None   \n",
       "4          2000     Gable  CompShg     VinylSd     VinylSd    BrkFace   \n",
       "\n",
       "   MasVnrArea ExterQual ExterCond Foundation BsmtQual BsmtCond BsmtExposure  \\\n",
       "0       196.0        Gd        TA      PConc       Gd       TA           No   \n",
       "1         0.0        TA        TA     CBlock       Gd       TA           Gd   \n",
       "2       162.0        Gd        TA      PConc       Gd       TA           Mn   \n",
       "3         0.0        TA        TA     BrkTil       TA       Gd           No   \n",
       "4       350.0        Gd        TA      PConc       Gd       TA           Av   \n",
       "\n",
       "  BsmtFinType1  BsmtFinSF1 BsmtFinType2  BsmtFinSF2  BsmtUnfSF  TotalBsmtSF  \\\n",
       "0          GLQ         706          Unf           0        150          856   \n",
       "1          ALQ         978          Unf           0        284         1262   \n",
       "2          GLQ         486          Unf           0        434          920   \n",
       "3          ALQ         216          Unf           0        540          756   \n",
       "4          GLQ         655          Unf           0        490         1145   \n",
       "\n",
       "  Heating HeatingQC CentralAir Electrical  1stFlrSF  2ndFlrSF  LowQualFinSF  \\\n",
       "0    GasA        Ex          Y      SBrkr       856       854             0   \n",
       "1    GasA        Ex          Y      SBrkr      1262         0             0   \n",
       "2    GasA        Ex          Y      SBrkr       920       866             0   \n",
       "3    GasA        Gd          Y      SBrkr       961       756             0   \n",
       "4    GasA        Ex          Y      SBrkr      1145      1053             0   \n",
       "\n",
       "   GrLivArea  BsmtFullBath  BsmtHalfBath  FullBath  HalfBath  BedroomAbvGr  \\\n",
       "0       1710             1             0         2         1             3   \n",
       "1       1262             0             1         2         0             3   \n",
       "2       1786             1             0         2         1             3   \n",
       "3       1717             1             0         1         0             3   \n",
       "4       2198             1             0         2         1             4   \n",
       "\n",
       "   KitchenAbvGr KitchenQual  TotRmsAbvGrd Functional  Fireplaces FireplaceQu  \\\n",
       "0             1          Gd             8        Typ           0         NaN   \n",
       "1             1          TA             6        Typ           1          TA   \n",
       "2             1          Gd             6        Typ           1          TA   \n",
       "3             1          Gd             7        Typ           1          Gd   \n",
       "4             1          Gd             9        Typ           1          TA   \n",
       "\n",
       "  GarageType  GarageYrBlt GarageFinish  GarageCars  GarageArea GarageQual  \\\n",
       "0     Attchd       2003.0          RFn           2         548         TA   \n",
       "1     Attchd       1976.0          RFn           2         460         TA   \n",
       "2     Attchd       2001.0          RFn           2         608         TA   \n",
       "3     Detchd       1998.0          Unf           3         642         TA   \n",
       "4     Attchd       2000.0          RFn           3         836         TA   \n",
       "\n",
       "  GarageCond PavedDrive  WoodDeckSF  OpenPorchSF  EnclosedPorch  3SsnPorch  \\\n",
       "0         TA          Y           0           61              0          0   \n",
       "1         TA          Y         298            0              0          0   \n",
       "2         TA          Y           0           42              0          0   \n",
       "3         TA          Y           0           35            272          0   \n",
       "4         TA          Y         192           84              0          0   \n",
       "\n",
       "   ScreenPorch  PoolArea PoolQC Fence MiscFeature  MiscVal  MoSold  YrSold  \\\n",
       "0            0         0    NaN   NaN         NaN        0       2    2008   \n",
       "1            0         0    NaN   NaN         NaN        0       5    2007   \n",
       "2            0         0    NaN   NaN         NaN        0       9    2008   \n",
       "3            0         0    NaN   NaN         NaN        0       2    2006   \n",
       "4            0         0    NaN   NaN         NaN        0      12    2008   \n",
       "\n",
       "  SaleType SaleCondition  SalePrice  \n",
       "0       WD        Normal     208500  \n",
       "1       WD        Normal     181500  \n",
       "2       WD        Normal     223500  \n",
       "3       WD       Abnorml     140000  \n",
       "4       WD        Normal     250000  "
      ]
     },
     "execution_count": 3,
     "metadata": {},
     "output_type": "execute_result"
    }
   ],
   "source": [
    "data = pd.read_csv('houseprice.csv')\n",
    "\n",
    "data.head()"
   ]
  },
  {
   "cell_type": "markdown",
   "metadata": {},
   "source": [
    "### Types of variables"
   ]
  },
  {
   "cell_type": "code",
   "execution_count": 4,
   "metadata": {},
   "outputs": [
    {
     "name": "stdout",
     "output_type": "stream",
     "text": [
      "Number of House Id labels:  1460\n",
      "Number of Houses in the Dataset:  1460\n"
     ]
    }
   ],
   "source": [
    "# we have an Id variable, that we should not use for predictions:\n",
    "\n",
    "print('Number of House Id labels: ', len(data.Id.unique()))\n",
    "print('Number of Houses in the Dataset: ', len(data))"
   ]
  },
  {
   "cell_type": "markdown",
   "metadata": {},
   "source": [
    "### Find categorical variables"
   ]
  },
  {
   "cell_type": "code",
   "execution_count": 5,
   "metadata": {},
   "outputs": [
    {
     "name": "stdout",
     "output_type": "stream",
     "text": [
      "There are 43 categorical variables\n"
     ]
    }
   ],
   "source": [
    "# find categorical variables- hint data type = 'O'\n",
    "\n",
    "categorical = [var for var in data.columns if data[var].dtype=='O']\n",
    "\n",
    "print(f'There are {len(categorical)} categorical variables')"
   ]
  },
  {
   "cell_type": "markdown",
   "metadata": {},
   "source": [
    "### Find temporal variables"
   ]
  },
  {
   "cell_type": "code",
   "execution_count": 6,
   "metadata": {},
   "outputs": [
    {
     "data": {
      "text/plain": [
       "['YearBuilt', 'YearRemodAdd', 'GarageYrBlt', 'YrSold']"
      ]
     },
     "execution_count": 6,
     "metadata": {},
     "output_type": "execute_result"
    }
   ],
   "source": [
    "# make a list of the numerical variables first= Hint data type != O\n",
    "numerical = [var for var in data.columns if data[var].dtype!='O']\n",
    "\n",
    "# list of variables that contain year information= Hint variable namme has Yr or \n",
    "year_vars = [var for var in numerical if 'Yr' in var or 'Year' in var]\n",
    "\n",
    "year_vars"
   ]
  },
  {
   "cell_type": "markdown",
   "metadata": {},
   "source": [
    "### Find discrete variables \n",
    "\n",
    "##### To identify discrete variables- numerical variables with less than 20 unique values"
   ]
  },
  {
   "cell_type": "code",
   "execution_count": 7,
   "metadata": {},
   "outputs": [
    {
     "name": "stdout",
     "output_type": "stream",
     "text": [
      "There are 14 discrete variables\n"
     ]
    }
   ],
   "source": [
    "# let's visualise the values of the discrete variables\n",
    "discrete = [var for var in numerical if len(data[var].unique()) < 20 and var not in year_vars]\n",
    "\n",
    "print(f'There are {len(discrete)} discrete variables')"
   ]
  },
  {
   "cell_type": "markdown",
   "metadata": {},
   "source": [
    "### Continuous variables"
   ]
  },
  {
   "cell_type": "code",
   "execution_count": 8,
   "metadata": {},
   "outputs": [
    {
     "name": "stdout",
     "output_type": "stream",
     "text": [
      "There are 38 numerical and continuous variables\n"
     ]
    }
   ],
   "source": [
    "# find continuous variables- hint numerical variables not in discrete and  year_years \n",
    "# Also remove the Id variable and the target variable SalePrice\n",
    "# which are both also numerical\n",
    "\n",
    "continuous = [var for var in numerical if var not in discrete and var not in [\n",
    "    'Id', 'SalePrice'] and var not in year_vars]\n",
    "\n",
    "print('There are {} numerical and continuous variables'.format(len(numerical)))"
   ]
  },
  {
   "cell_type": "markdown",
   "metadata": {},
   "source": [
    "### Separate train and test set"
   ]
  },
  {
   "cell_type": "code",
   "execution_count": 9,
   "metadata": {},
   "outputs": [
    {
     "data": {
      "text/plain": [
       "((1314, 79), (146, 79))"
      ]
     },
     "execution_count": 9,
     "metadata": {},
     "output_type": "execute_result"
    }
   ],
   "source": [
    "# Let's separate into train and test set\n",
    "from sklearn.model_selection import train_test_split\n",
    "X_train, X_test, y_train, y_test = train_test_split(data.drop(['Id', 'SalePrice'], axis=1),\n",
    "                                                    data['SalePrice'],\n",
    "                                                    test_size=0.1,\n",
    "                                                    random_state=0)\n",
    "\n",
    "X_train.shape, X_test.shape"
   ]
  },
  {
   "cell_type": "markdown",
   "metadata": {},
   "source": [
    "### Create New Variables\n",
    "\n",
    "##### Replace 'YearBuilt', 'YearRemodAdd', 'GarageYrBlt with time elapsed since YrSold So YearBuilt = YrSold-YearBuilt.\n",
    "##### Similarly transform 'YearRemodAdd', 'GarageYrBlt. After making transformation drop YrSold"
   ]
  },
  {
   "cell_type": "code",
   "execution_count": 10,
   "metadata": {},
   "outputs": [],
   "source": [
    "# function to calculate elapsed time\n",
    "\n",
    "def elapsed_years(df, var):\n",
    "    # capture difference between year variable and\n",
    "    # year the house was sold\n",
    "    \n",
    "    df[var] = df['YrSold'] - df[var]\n",
    "    return df"
   ]
  },
  {
   "cell_type": "code",
   "execution_count": 11,
   "metadata": {},
   "outputs": [],
   "source": [
    "for var in ['YearBuilt', 'YearRemodAdd', 'GarageYrBlt']:\n",
    "    X_train = elapsed_years(X_train, var)\n",
    "    X_test = elapsed_years(X_test, var)"
   ]
  },
  {
   "cell_type": "code",
   "execution_count": 12,
   "metadata": {},
   "outputs": [],
   "source": [
    "# drop YrSold\n",
    "X_train.drop('YrSold', axis=1, inplace=True)\n",
    "X_test.drop('YrSold', axis=1, inplace=True)"
   ]
  },
  {
   "cell_type": "code",
   "execution_count": 13,
   "metadata": {},
   "outputs": [],
   "source": [
    "year_vars.remove('YrSold')"
   ]
  },
  {
   "cell_type": "code",
   "execution_count": 14,
   "metadata": {},
   "outputs": [
    {
     "data": {
      "text/plain": [
       "Index(['MSSubClass', 'MSZoning', 'LotFrontage', 'LotArea', 'Street', 'Alley',\n",
       "       'LotShape', 'LandContour', 'Utilities', 'LotConfig', 'LandSlope',\n",
       "       'Neighborhood', 'Condition1', 'Condition2', 'BldgType', 'HouseStyle',\n",
       "       'OverallQual', 'OverallCond', 'YearBuilt', 'YearRemodAdd', 'RoofStyle',\n",
       "       'RoofMatl', 'Exterior1st', 'Exterior2nd', 'MasVnrType', 'MasVnrArea',\n",
       "       'ExterQual', 'ExterCond', 'Foundation', 'BsmtQual', 'BsmtCond',\n",
       "       'BsmtExposure', 'BsmtFinType1', 'BsmtFinSF1', 'BsmtFinType2',\n",
       "       'BsmtFinSF2', 'BsmtUnfSF', 'TotalBsmtSF', 'Heating', 'HeatingQC',\n",
       "       'CentralAir', 'Electrical', '1stFlrSF', '2ndFlrSF', 'LowQualFinSF',\n",
       "       'GrLivArea', 'BsmtFullBath', 'BsmtHalfBath', 'FullBath', 'HalfBath',\n",
       "       'BedroomAbvGr', 'KitchenAbvGr', 'KitchenQual', 'TotRmsAbvGrd',\n",
       "       'Functional', 'Fireplaces', 'FireplaceQu', 'GarageType', 'GarageYrBlt',\n",
       "       'GarageFinish', 'GarageCars', 'GarageArea', 'GarageQual', 'GarageCond',\n",
       "       'PavedDrive', 'WoodDeckSF', 'OpenPorchSF', 'EnclosedPorch', '3SsnPorch',\n",
       "       'ScreenPorch', 'PoolArea', 'PoolQC', 'Fence', 'MiscFeature', 'MiscVal',\n",
       "       'MoSold', 'SaleType', 'SaleCondition'],\n",
       "      dtype='object')"
      ]
     },
     "execution_count": 14,
     "metadata": {},
     "output_type": "execute_result"
    }
   ],
   "source": [
    "# capture the column names for use later in the notebook\n",
    "final_columns = X_train.columns\n",
    "final_columns"
   ]
  },
  {
   "cell_type": "markdown",
   "metadata": {},
   "source": [
    "### Feature Engineering Pipeline"
   ]
  },
  {
   "cell_type": "code",
   "execution_count": 15,
   "metadata": {},
   "outputs": [],
   "source": [
    "# Treating discrete variables as if they were categorical\n",
    "# To treat discrete as categorical using Feature-engine, we need to re-cast them as object\n",
    "\n",
    "X_train[discrete] = X_train[discrete].astype('O')\n",
    "X_test[discrete] = X_test[discrete].astype('O')"
   ]
  },
  {
   "cell_type": "code",
   "execution_count": 16,
   "metadata": {},
   "outputs": [],
   "source": [
    "# import relevant modules for feature engineering\n",
    "from sklearn.pipeline import Pipeline\n",
    "from sklearn.preprocessing import StandardScaler\n",
    "from feature_engine import missing_data_imputers as mdi\n",
    "from feature_engine import categorical_encoders as ce\n",
    "from feature_engine.variable_transformers import YeoJohnsonTransformer\n",
    "from sklearn.preprocessing import StandardScaler\n",
    "from feature_engine.discretisers import DecisionTreeDiscretiser\n",
    "from feature_engine.wrappers import SklearnTransformerWrapper"
   ]
  },
  {
   "cell_type": "code",
   "execution_count": 17,
   "metadata": {},
   "outputs": [],
   "source": [
    "# Creating the pipeline\n",
    "house_preprocess = Pipeline([\n",
    "    \n",
    "    # missing data imputation \n",
    "    ('missing_ind', mdi.AddMissingIndicator(\n",
    "        variables=['LotFrontage', 'MasVnrArea',  'GarageYrBlt'])),\n",
    "    ('imputer_num', mdi.MeanMedianImputer(imputation_method='mean',\n",
    "                                          variables=['LotFrontage', 'MasVnrArea',  'GarageYrBlt'])),\n",
    "    ('imputer_cat', mdi.CategoricalVariableImputer(imputation_method='missing',variables=categorical)),\n",
    "\n",
    "    # categorical encoding \n",
    "     ('rare_label_enc', ce.RareLabelCategoricalEncoder(\n",
    "         tol=0.01,n_categories=1, variables=categorical+discrete)),\n",
    "    ('categorical_enc', ce.MeanCategoricalEncoder(variables = categorical + discrete)),\n",
    "     \n",
    "    # Transforming Numerical Variables\n",
    "    ('yjt', YeoJohnsonTransformer(variables = ['LotFrontage','MasVnrArea', 'GarageYrBlt'])),\n",
    "\n",
    "    \n",
    "    # discretisation and encoding\n",
    "    ('treeDisc',  DecisionTreeDiscretiser(cv=2, scoring='neg_mean_squared_error',\n",
    "                                   regression=True,\n",
    "                                   param_grid={'max_depth': [1,2,3,4,5,6]},\n",
    "                                   )),\n",
    "    # feature Scaling\n",
    "    ('scaler', SklearnTransformerWrapper(transformer=StandardScaler())),\n",
    "\n",
    "  ])"
   ]
  },
  {
   "cell_type": "code",
   "execution_count": 18,
   "metadata": {},
   "outputs": [
    {
     "data": {
      "text/plain": [
       "Pipeline(steps=[('missing_ind',\n",
       "                 AddMissingIndicator(variables=['LotFrontage', 'MasVnrArea',\n",
       "                                                'GarageYrBlt'])),\n",
       "                ('imputer_num',\n",
       "                 MeanMedianImputer(imputation_method='mean',\n",
       "                                   variables=['LotFrontage', 'MasVnrArea',\n",
       "                                              'GarageYrBlt'])),\n",
       "                ('imputer_cat',\n",
       "                 CategoricalVariableImputer(variables=['MSZoning', 'Street',\n",
       "                                                       'Alley', 'LotShape',\n",
       "                                                       'LandContour',\n",
       "                                                       'Utilities', 'LotConfig',\n",
       "                                                       '...\n",
       "                                                      'LotFrontage', 'LotArea',\n",
       "                                                      'Street', 'Alley',\n",
       "                                                      'LotShape', 'LandContour',\n",
       "                                                      'Utilities', 'LotConfig',\n",
       "                                                      'LandSlope',\n",
       "                                                      'Neighborhood',\n",
       "                                                      'Condition1',\n",
       "                                                      'Condition2', 'BldgType',\n",
       "                                                      'HouseStyle',\n",
       "                                                      'OverallQual',\n",
       "                                                      'OverallCond',\n",
       "                                                      'YearBuilt',\n",
       "                                                      'YearRemodAdd',\n",
       "                                                      'RoofStyle', 'RoofMatl',\n",
       "                                                      'Exterior1st',\n",
       "                                                      'Exterior2nd',\n",
       "                                                      'MasVnrType',\n",
       "                                                      'MasVnrArea', 'ExterQual',\n",
       "                                                      'ExterCond', 'Foundation',\n",
       "                                                      'BsmtQual', ...]))])"
      ]
     },
     "execution_count": 18,
     "metadata": {},
     "output_type": "execute_result"
    }
   ],
   "source": [
    "house_preprocess.fit(X_train,y_train)"
   ]
  },
  {
   "cell_type": "code",
   "execution_count": 19,
   "metadata": {},
   "outputs": [],
   "source": [
    "# Apply Transformations\n",
    "X_train=house_preprocess.transform(X_train)\n",
    "X_test=house_preprocess.transform(X_test)"
   ]
  },
  {
   "cell_type": "markdown",
   "metadata": {},
   "source": [
    "### Importing Libraries "
   ]
  },
  {
   "cell_type": "code",
   "execution_count": 20,
   "metadata": {},
   "outputs": [],
   "source": [
    "# from feature-engine\n",
    "from feature_engine import missing_data_imputers as mdi\n",
    "# for one hot encoding with feature-engine\n",
    "from feature_engine.categorical_encoders import OneHotCategoricalEncoder\n",
    "from feature_engine.categorical_encoders import RareLabelCategoricalEncoder\n",
    "from sklearn.linear_model import LogisticRegression\n",
    "from sklearn.pipeline import Pipeline\n",
    "from feature_engine.wrappers import SklearnTransformerWrapper\n",
    "from sklearn.preprocessing import StandardScaler\n",
    "from sklearn.preprocessing import MinMaxScaler\n",
    "from sklearn import neighbors\n",
    "from sklearn.metrics import mean_squared_error \n",
    "from math import sqrt\n",
    "import matplotlib.pyplot as plt\n",
    "from sklearn.neighbors import NearestNeighbors\n",
    "from sklearn.neighbors import KNeighborsRegressor\n",
    "from sklearn.model_selection import GridSearchCV\n",
    "from sklearn import neighbors\n",
    "from sklearn.metrics import mean_squared_error \n",
    "from math import sqrt\n",
    "import matplotlib.pyplot as plt\n",
    "from sklearn.linear_model import LinearRegression\n",
    "from sklearn.model_selection import cross_val_score\n",
    "from sklearn.model_selection import KFold"
   ]
  },
  {
   "cell_type": "markdown",
   "metadata": {},
   "source": [
    "### 1. Linear regression model "
   ]
  },
  {
   "cell_type": "code",
   "execution_count": 21,
   "metadata": {},
   "outputs": [
    {
     "name": "stdout",
     "output_type": "stream",
     "text": [
      "Mean Cross-validation scores: [ 8.66429448e-01 -2.55448890e+24  8.75243469e-01  8.98831713e-01\n",
      "  8.89229043e-01]\n",
      "\n",
      "Mean Cross-validation scores: -5.108977792193288e+23\n",
      "\n",
      "lr.coef_: [ 8.24918946e+02  9.11128681e+02  1.51657181e+03  2.33232658e+03\n",
      "  1.44140393e+03  3.91448381e+02  5.62100917e+02  1.08538019e+03\n",
      "  1.45990777e+03  2.29494439e+03  1.24547200e+03  1.13131704e+04\n",
      "  1.23318677e+03  2.16857904e+03  1.24306313e+03 -8.78022363e+02\n",
      "  1.58501930e+04 -2.41716335e+02 -5.57296824e+03  3.99839237e+03\n",
      "  3.46883565e+02 -9.70211848e+02  3.74403450e+03 -2.87220600e+03\n",
      " -1.10902884e+03  4.53224648e+02  2.80474162e+03  6.39579405e+02\n",
      "  1.32587158e+02  2.36348962e+03  5.86837702e+02  3.59436373e+03\n",
      "  1.22709654e+03  5.65489348e+03 -1.51786935e+03  2.00928583e+03\n",
      " -2.64865036e+02  7.47416996e+03  3.04888503e+02  1.43257395e+03\n",
      "  1.16536791e+03 -7.18553872e+02  1.23534115e+04  1.11366743e+04\n",
      "  3.98969990e+03  5.81899873e+03  2.88774873e+03 -1.33109420e+03\n",
      "  4.07095220e+03  5.22553331e+03  6.83320726e+02  3.04567719e+03\n",
      "  3.79756283e+03  3.05899671e+03  3.07399183e+03  7.55736804e+02\n",
      "  1.50867326e+03 -1.94623595e+03 -2.00491404e+03 -1.12520986e+03\n",
      "  4.21877066e+03  4.02997452e+02  4.26121722e+03 -6.62501020e+02\n",
      "  9.54696891e-01  1.43293247e+03  1.49479685e+03  1.90501116e+02\n",
      "  2.21544837e+03  2.52860830e+03  4.42801759e+16 -4.42801759e+16\n",
      " -2.40154456e+02 -2.19389197e+03  1.13942510e+03 -1.36156442e+02\n",
      " -1.00725746e+03  5.16553176e+03 -2.57296747e+02  1.14412447e+02\n",
      " -1.27262363e+03]\n",
      "lr.intercept_: 181040.6240487064\n",
      "LR Performance Train:  0.9116581297074798\n",
      "LR Performance Test:  0.8732306877759184\n"
     ]
    }
   ],
   "source": [
    "from sklearn.linear_model import LinearRegression\n",
    "from sklearn.metrics import mean_squared_error, r2_score\n",
    "\n",
    "lr = LinearRegression().fit(X_train, y_train)\n",
    "n=len(X_train)\n",
    "\n",
    "cv_scores = cross_val_score(lr, X_train, y_train, cv = 5)\n",
    "\n",
    "# Mean Cross validation Score\n",
    "print(\"Mean Cross-validation scores: {}\".format(cv_scores))\n",
    "print()\n",
    "print(\"Mean Cross-validation scores: {}\".format(cv_scores.mean()))\n",
    "print()\n",
    "\n",
    "# Print Co-efficients\n",
    "print(\"lr.coef_:\", lr.coef_)\n",
    "print(\"lr.intercept_:\", lr.intercept_)\n",
    "\n",
    "# Check test data set performance\n",
    "print(\"LR Performance Train: \", lr.score(X_train,y_train))\n",
    "print(\"LR Performance Test: \", lr.score(X_test,y_test))"
   ]
  },
  {
   "cell_type": "markdown",
   "metadata": {},
   "source": [
    "### 2. KNN regression model"
   ]
  },
  {
   "cell_type": "code",
   "execution_count": 22,
   "metadata": {},
   "outputs": [
    {
     "name": "stdout",
     "output_type": "stream",
     "text": [
      "Best Mean Cross-validation score: 0.83\n",
      "\n",
      "KNN parameters:  {'metric': 'manhattan', 'n_neighbors': 5}\n",
      "KNN Performance Train:  0.9000524237426366\n",
      "KNN Performance Test:  0.7744786244161769\n"
     ]
    }
   ],
   "source": [
    "# Train a KNN model, report the coefficients, the best parameters, and model performance \n",
    "from sklearn.preprocessing import MinMaxScaler\n",
    "from sklearn.model_selection import GridSearchCV\n",
    "from sklearn.neighbors import KNeighborsRegressor\n",
    "\n",
    "knn = KNeighborsRegressor()\n",
    "\n",
    "# define a list of parameters\n",
    "param_knn = {'n_neighbors': [5, 10, 15, 20],\n",
    "             'metric' : ['euclidean', 'manhattan']}\n",
    "\n",
    "\n",
    "#apply grid search\n",
    "grid_knn = GridSearchCV(knn, param_knn, cv=7, return_train_score=True)\n",
    "grid_knn.fit(X_train, y_train)\n",
    "\n",
    "# Mean Cross Validation Score\n",
    "print(\"Best Mean Cross-validation score: {:.2f}\".format(grid_knn.best_score_))\n",
    "print()\n",
    "\n",
    "#find best parameters\n",
    "print('KNN parameters: ', grid_knn.best_params_)\n",
    "\n",
    "# Check test data set performance\n",
    "print(\"KNN Performance Train: \", grid_knn.score(X_train,y_train))\n",
    "print(\"KNN Performance Test: \", grid_knn.score(X_test,y_test))"
   ]
  },
  {
   "cell_type": "markdown",
   "metadata": {},
   "source": [
    "### 3. Ridge regression model "
   ]
  },
  {
   "cell_type": "code",
   "execution_count": 23,
   "metadata": {},
   "outputs": [
    {
     "name": "stdout",
     "output_type": "stream",
     "text": [
      "Best Mean Cross-validation score: 0.88\n",
      "\n",
      "Ridge parameters:  {'alpha': 120}\n",
      "Ridge Train Performance:  0.9100503103599654\n",
      "Ridge Test Performance:  0.8711496002669079\n"
     ]
    }
   ],
   "source": [
    "# Train a Ridge regression model, report the coefficients, the best parameters, and model performance \n",
    "from sklearn.model_selection import GridSearchCV\n",
    "from sklearn.linear_model import Ridge\n",
    "ridge = Ridge()\n",
    "\n",
    "#define a list of parameters\n",
    "param_ridge = {'alpha':[100,110,120,130,140] }\n",
    "\n",
    "grid_ridge = GridSearchCV(ridge, param_ridge, cv=5, return_train_score = True)\n",
    "grid_ridge.fit(X_train, y_train)\n",
    "\n",
    "# Mean Cross Validation Score\n",
    "print(\"Best Mean Cross-validation score: {:.2f}\".format(grid_ridge.best_score_))\n",
    "\n",
    "print()\n",
    "\n",
    "#find best parameters\n",
    "print('Ridge parameters: ', grid_ridge.best_params_)\n",
    "\n",
    "\n",
    "# Check test data set performance\n",
    "\n",
    "print(\"Ridge Train Performance: \", grid_ridge.score(X_train,y_train))\n",
    "print(\"Ridge Test Performance: \", grid_ridge.score(X_test,y_test))"
   ]
  },
  {
   "cell_type": "markdown",
   "metadata": {},
   "source": [
    "### 4. Lasso regression model"
   ]
  },
  {
   "cell_type": "code",
   "execution_count": 24,
   "metadata": {},
   "outputs": [
    {
     "name": "stdout",
     "output_type": "stream",
     "text": [
      "Best Mean Cross-validation score: 0.89\n",
      "\n",
      "Lasso parameters:  {'alpha': 500}\n",
      "Lasso Train Performance:  0.9083671561828881\n",
      "Lasso Test Performance:  0.8830170011564082\n"
     ]
    }
   ],
   "source": [
    "# Train a Lasso regression model, report the coefficients, the best parameters, and model performance \n",
    "\n",
    "from sklearn.linear_model import Lasso\n",
    "lasso = Lasso(random_state=0, max_iter=1000)\n",
    "\n",
    "#define a list of parameters\n",
    "param_lasso = {'alpha':[50,100,200,500] }\n",
    "\n",
    "grid_lasso = GridSearchCV(lasso, param_lasso, cv=5, return_train_score = True)\n",
    "grid_lasso.fit(X_train, y_train)\n",
    "\n",
    "# Mean Cross Validation Score\n",
    "print(\"Best Mean Cross-validation score: {:.2f}\".format(grid_lasso.best_score_))\n",
    "print()\n",
    "\n",
    "#find best parameters\n",
    "print('Lasso parameters: ', grid_lasso.best_params_)\n",
    "\n",
    "# Check test data set performance\n",
    "print(\"Lasso Train Performance: \", grid_lasso.score(X_train,y_train))\n",
    "print(\"Lasso Test Performance: \", grid_lasso.score(X_test,y_test))"
   ]
  },
  {
   "cell_type": "markdown",
   "metadata": {},
   "source": [
    "### 5. Polynomial regression model "
   ]
  },
  {
   "cell_type": "code",
   "execution_count": 25,
   "metadata": {},
   "outputs": [
    {
     "data": {
      "text/plain": [
       "GridSearchCV(cv=5,\n",
       "             estimator=Pipeline(steps=[('polynomialfeatures',\n",
       "                                        PolynomialFeatures()),\n",
       "                                       ('linearregression',\n",
       "                                        LinearRegression())]),\n",
       "             param_grid={'polynomialfeatures__degree': [2],\n",
       "                         'polynomialfeatures__interaction_only': ['True']},\n",
       "             return_train_score=True)"
      ]
     },
     "execution_count": 25,
     "metadata": {},
     "output_type": "execute_result"
    }
   ],
   "source": [
    "# Train a polynomial regression model, report the coefficients, the best parameters, and model performance \n",
    "from sklearn.model_selection import GridSearchCV\n",
    "from sklearn.preprocessing  import PolynomialFeatures\n",
    "from sklearn.pipeline import make_pipeline\n",
    "\n",
    "poly = PolynomialFeatures()\n",
    "lreg = LinearRegression()\n",
    "#define a list of parameters\n",
    "param_poly = {'polynomialfeatures__degree':[2],\n",
    "              'polynomialfeatures__interaction_only' : ['True']}\n",
    "\n",
    "\n",
    "pipe_poly = make_pipeline(PolynomialFeatures(), LinearRegression())\n",
    "grid_poly = GridSearchCV(pipe_poly, param_poly,cv=5, return_train_score = True)\n",
    "\n",
    "\n",
    "grid_poly.fit(X_train, y_train)"
   ]
  },
  {
   "cell_type": "code",
   "execution_count": 26,
   "metadata": {},
   "outputs": [
    {
     "name": "stdout",
     "output_type": "stream",
     "text": [
      "Best Mean Cross-validation score: -30621689114123403526144.00\n",
      "\n",
      "Poly parameters:  {'polynomialfeatures__degree': 2, 'polynomialfeatures__interaction_only': 'True'}\n",
      "Poly Performance Train :  0.9999953208191343\n",
      "Poly Performance Test :  -2.4879957601868596e+22\n"
     ]
    }
   ],
   "source": [
    "# Mean Cross Validation Score\n",
    "print(\"Best Mean Cross-validation score: {:.2f}\".format(grid_poly.best_score_))\n",
    "print()\n",
    "\n",
    "#find best parameters\n",
    "print('Poly parameters: ', grid_poly.best_params_)\n",
    "\n",
    "# Check test data set performance\n",
    "print(\"Poly Performance Train : \", grid_poly.score(X_train,y_train))\n",
    "print(\"Poly Performance Test : \", grid_poly.score(X_test,y_test))\n"
   ]
  },
  {
   "cell_type": "markdown",
   "metadata": {},
   "source": [
    "### 6a. SVM Regression Model (linear)"
   ]
  },
  {
   "cell_type": "code",
   "execution_count": 27,
   "metadata": {},
   "outputs": [
    {
     "name": "stdout",
     "output_type": "stream",
     "text": [
      "Best Mean Cross-validation score: 0.89\n",
      "\n",
      "SVR linear parameters:  {'C': 3000}\n",
      "SVR linear Performance train:  0.9008363790724896\n",
      "SVR linear Performance test:  0.8618312762355149\n"
     ]
    }
   ],
   "source": [
    "from sklearn.svm import LinearSVR\n",
    "\n",
    "svr_linear = LinearSVR(max_iter=10000)\n",
    "\n",
    "#define a list of parameters\n",
    "param_svr_linear = {'C': [1000,2000,3000]}\n",
    "\n",
    "#apply grid search\n",
    "grid_param_svr_linear = GridSearchCV(svr_linear, param_svr_linear, cv=6, return_train_score = True)\n",
    "grid_param_svr_linear.fit(X_train, y_train)\n",
    "\n",
    "# Mean Cross Validation Score\n",
    "print(\"Best Mean Cross-validation score: {:.2f}\".format(grid_param_svr_linear.best_score_))\n",
    "print()\n",
    "\n",
    "#find best parameters\n",
    "print('SVR linear parameters: ', grid_param_svr_linear.best_params_)\n",
    "\n",
    "\n",
    "\n",
    "# Check test data set performance\n",
    "print(\"SVR linear Performance train: \", grid_param_svr_linear.score(X_train,y_train))\n",
    "print(\"SVR linear Performance test: \", grid_param_svr_linear.score(X_test,y_test))"
   ]
  },
  {
   "cell_type": "markdown",
   "metadata": {},
   "source": [
    "### 6b. SVM Classification Kernel (rbf)"
   ]
  },
  {
   "cell_type": "code",
   "execution_count": 28,
   "metadata": {},
   "outputs": [
    {
     "name": "stdout",
     "output_type": "stream",
     "text": [
      "Best Mean Cross-validation score: 0.88\n",
      "SVR parameters:  {'C': 60000, 'gamma': 0.0015}\n",
      "train score:  0.9036611531916966\n",
      "test score:  0.7588321630715543\n"
     ]
    }
   ],
   "source": [
    "from sklearn.svm import SVR\n",
    "from sklearn.model_selection import GridSearchCV\n",
    "\n",
    "svc_kernel = SVR(kernel = 'rbf')\n",
    "\n",
    "#define a list of parameters\n",
    "param_svr_kernel = {'C': [10000,15000,50000,55000,60000],\n",
    "                    'gamma':[0.0001,0.0008, 0.0015,0.0016,0.0018]\n",
    "                    }\n",
    "\n",
    "#apply grid search\n",
    "grid_svr_kernel = GridSearchCV(svc_kernel, param_svr_kernel, cv=5, n_jobs=2)\n",
    "grid_svr_kernel.fit(X_train, y_train)\n",
    "\n",
    "# Mean Cross Validation Score\n",
    "print(\"Best Mean Cross-validation score: {:.2f}\".format(grid_svr_kernel.best_score_))\n",
    "\n",
    "\n",
    "#find best parameters\n",
    "print('SVR parameters: ', grid_svr_kernel.best_params_)\n",
    "\n",
    "print('train score: ', grid_svr_kernel.score(X_train, y_train))\n",
    "print('test score: ', grid_svr_kernel.score(X_test, y_test))"
   ]
  },
  {
   "cell_type": "markdown",
   "metadata": {},
   "source": [
    "### 6c. SVM Classification Kernel (Sigmoid) "
   ]
  },
  {
   "cell_type": "code",
   "execution_count": 29,
   "metadata": {},
   "outputs": [
    {
     "name": "stdout",
     "output_type": "stream",
     "text": [
      "Best Mean Cross-validation score: 0.87\n",
      "SVC parameters:  {'C': 42000, 'gamma': 0.003}\n",
      "train score:  0.8757032119659779\n",
      "test score:  0.8589645567833304\n"
     ]
    }
   ],
   "source": [
    "from sklearn.svm import SVR\n",
    "from sklearn.model_selection import GridSearchCV\n",
    "\n",
    "svr_kernel = SVR(kernel = 'sigmoid')\n",
    "\n",
    "#define a list of parameters\n",
    "param_svr_kernel = {'C': [30000,40000,42000],\n",
    "                    'gamma':[0.001,0.002,0.003,0.004,0.01]\n",
    "                    }\n",
    "\n",
    "#apply grid search\n",
    "grid_svr_kernel = GridSearchCV(svr_kernel, param_svr_kernel, cv=5, n_jobs=2)\n",
    "grid_svr_kernel.fit(X_train, y_train)\n",
    "\n",
    "# Mean Cross Validation Score\n",
    "print(\"Best Mean Cross-validation score: {:.2f}\".format(grid_svr_kernel.best_score_))\n",
    "\n",
    "\n",
    "#find best parameters\n",
    "print('SVC parameters: ', grid_svr_kernel.best_params_)\n",
    "\n",
    "print('train score: ', grid_svr_kernel.score(X_train, y_train))\n",
    "print('test score: ', grid_svr_kernel.score(X_test, y_test))"
   ]
  },
  {
   "cell_type": "markdown",
   "metadata": {},
   "source": [
    "### 6d. SVM Classification with Poly kernel "
   ]
  },
  {
   "cell_type": "code",
   "execution_count": 30,
   "metadata": {},
   "outputs": [
    {
     "name": "stdout",
     "output_type": "stream",
     "text": [
      "Best Mean Cross-validation score: 0.81\n",
      "\n",
      "SVC parameters:  {'C': 35000, 'degree': 3, 'gamma': 'auto'}\n",
      "SVC Performance train:  0.957927316786163\n",
      "SVC Performance test:  0.8313291541020024\n"
     ]
    }
   ],
   "source": [
    "from sklearn.svm import SVR\n",
    "from sklearn.model_selection import GridSearchCV\n",
    "\n",
    "svr = SVR(kernel = 'poly')\n",
    "\n",
    "#define a list of parameters\n",
    "param_svr = {'C': [35000,40000,45000], \n",
    "             'degree': [2,3,4],\n",
    "             'gamma':['scale','auto']}\n",
    "             \n",
    "\n",
    "#apply grid search\n",
    "grid_param_svr = GridSearchCV(svr, param_svr, cv=5, return_train_score = True)\n",
    "grid_param_svr.fit(X_train, y_train)\n",
    "\n",
    "# Mean Cross Validation Score\n",
    "print(\"Best Mean Cross-validation score: {:.2f}\".format(grid_param_svr.best_score_))\n",
    "print()\n",
    "\n",
    "#find best parameters\n",
    "print('SVC parameters: ', grid_param_svr.best_params_)\n",
    "\n",
    "\n",
    "\n",
    "# Check test data set performance\n",
    "print(\"SVC Performance train: \", grid_param_svr.score(X_train,y_train))\n",
    "print(\"SVC Performance test: \", grid_param_svr.score(X_test,y_test))"
   ]
  },
  {
   "cell_type": "markdown",
   "metadata": {},
   "source": [
    "### 7. Decision Tree "
   ]
  },
  {
   "cell_type": "code",
   "execution_count": 31,
   "metadata": {},
   "outputs": [
    {
     "name": "stdout",
     "output_type": "stream",
     "text": [
      "Best Mean Cross-validation score: 0.77\n",
      "\n",
      "Decision Tree parameters:  {'max_depth': 11, 'splitter': 'best'}\n",
      "Decision Tree Performance train:  0.9879354141840793\n",
      "Decision Tree Performance test:  0.8122149577809381\n"
     ]
    }
   ],
   "source": [
    "from sklearn.tree import DecisionTreeRegressor\n",
    "dtree = DecisionTreeRegressor(random_state=0)\n",
    "\n",
    "#define a list of parameters\n",
    "param_dtree = {'max_depth': range(2,20),\n",
    "               'splitter': ['best','random']}\n",
    "\n",
    "#apply grid search\n",
    "grid_dtree = GridSearchCV(dtree, param_dtree, cv=8, return_train_score = True)\n",
    "grid_dtree.fit(X_train, y_train)\n",
    "\n",
    "# Mean Cross Validation Score\n",
    "print(\"Best Mean Cross-validation score: {:.2f}\".format(grid_dtree.best_score_))\n",
    "print()\n",
    "\n",
    "#find best parameters\n",
    "print('Decision Tree parameters: ', grid_dtree.best_params_)\n",
    "\n",
    "# Check test data set performance\n",
    "print(\"Decision Tree Performance train: \", grid_dtree.score(X_train,y_train))\n",
    "print(\"Decision Tree Performance test: \", grid_dtree.score(X_test,y_test))"
   ]
  },
  {
   "cell_type": "code",
   "execution_count": 32,
   "metadata": {},
   "outputs": [
    {
     "name": "stdout",
     "output_type": "stream",
     "text": [
      "Best Mean Cross-validation score: 0.76\n",
      "\n",
      "Decision Tree parameters:  {'max_leaf_nodes': 19, 'splitter': 'best'}\n",
      "Decision Tree Performance train:  0.8259168797349552\n",
      "Decision Tree Performance test:  0.8139088472875955\n"
     ]
    }
   ],
   "source": [
    "from sklearn.tree import DecisionTreeRegressor\n",
    "dtree = DecisionTreeRegressor(random_state=0)\n",
    "\n",
    "#define a list of parameters\n",
    "param_dtree = {'max_leaf_nodes': range(10,20),\n",
    "               'splitter': ['best','random']}\n",
    "\n",
    "#apply grid search\n",
    "grid_dtree = GridSearchCV(dtree, param_dtree, cv=8, return_train_score = True)\n",
    "grid_dtree.fit(X_train, y_train)\n",
    "\n",
    "# Mean Cross Validation Score\n",
    "print(\"Best Mean Cross-validation score: {:.2f}\".format(grid_dtree.best_score_))\n",
    "print()\n",
    "\n",
    "#find best parameters\n",
    "print('Decision Tree parameters: ', grid_dtree.best_params_)\n",
    "\n",
    "# Check test data set performance\n",
    "print(\"Decision Tree Performance train: \", grid_dtree.score(X_train,y_train))\n",
    "print(\"Decision Tree Performance test: \", grid_dtree.score(X_test,y_test))"
   ]
  },
  {
   "cell_type": "markdown",
   "metadata": {},
   "source": [
    "### 8. SGD "
   ]
  },
  {
   "cell_type": "code",
   "execution_count": 33,
   "metadata": {},
   "outputs": [],
   "source": [
    "## stochastic gradient descent\n",
    "from sklearn.linear_model import SGDRegressor\n",
    "from sklearn.preprocessing import MinMaxScaler\n",
    "from sklearn.metrics import mean_squared_error, r2_score\n",
    "# create pipeline\n",
    "reg_sgd = SGDRegressor(max_iter=10000)\n",
    "\n",
    "param_sgd = {'eta0':[0.06, 0.03, 0.04, 0.05, 0.06,0.07], \n",
    "             'penalty' :['l1','l2'],\n",
    "             'alpha' :[0.1,10,20,30,50] }\n",
    "grid_sgd = GridSearchCV(reg_sgd, param_sgd,cv=5, n_jobs=-1, return_train_score = True)\n",
    "\n",
    "grid_sgd.fit(X_train, y_train)\n",
    "\n",
    "grid_sgd_train_score = grid_sgd.score(X_train, y_train)\n",
    "grid_sgd_test_score = grid_sgd.score(X_test, y_test)"
   ]
  },
  {
   "cell_type": "code",
   "execution_count": 34,
   "metadata": {},
   "outputs": [
    {
     "name": "stdout",
     "output_type": "stream",
     "text": [
      "Best parameters:  {'alpha': 10, 'eta0': 0.06, 'penalty': 'l2'}\n",
      "Best cross-validation score: 0.7032009961363216\n",
      "Training set score:  0.7538812365491305\n",
      "Test score:  0.5681336741770804\n"
     ]
    }
   ],
   "source": [
    "#find best parameters\n",
    "print('Best parameters: ', grid_sgd.best_params_)\n",
    "print('Best cross-validation score:', grid_sgd.best_score_)\n",
    "\n",
    "print('Training set score: ', grid_sgd_train_score)\n",
    "print('Test score: ', grid_sgd_test_score)"
   ]
  },
  {
   "cell_type": "markdown",
   "metadata": {},
   "source": [
    "### 9. Elastic Net "
   ]
  },
  {
   "cell_type": "code",
   "execution_count": 35,
   "metadata": {},
   "outputs": [
    {
     "name": "stdout",
     "output_type": "stream",
     "text": [
      "Best parameters:  {'alpha': 10, 'l1_ratio': 0.99}\n",
      "Best cross-validation score: 0.88376495325896\n",
      "Training set score:  0.9097834862483082\n",
      "Test score:  0.8709967643825017\n"
     ]
    }
   ],
   "source": [
    "# Elastic net\n",
    "from sklearn.linear_model import ElasticNet\n",
    "elasticnet = ElasticNet(max_iter=10000)\n",
    "\n",
    "#define a list of parameters\n",
    "param_elasticnet = {'alpha':[0.1,10,15,20,25,100], 'l1_ratio' :[.9, .95, .99, 0.99, 1.0]}\n",
    "\n",
    "grid_elasticnet = GridSearchCV(elasticnet , param_elasticnet, cv=5, return_train_score = True)\n",
    "\n",
    "grid_elasticnet.fit(X_train, y_train)\n",
    "\n",
    "grid_elasticnet_train_score = grid_elasticnet.score(X_train, y_train)\n",
    "grid_elasticnet_test_score = grid_elasticnet.score(X_test, y_test)\n",
    "\n",
    "#find best parameters\n",
    "print('Best parameters: ', grid_elasticnet.best_params_)\n",
    "print('Best cross-validation score:', grid_elasticnet.best_score_)\n",
    "\n",
    "print('Training set score: ', grid_elasticnet_train_score)\n",
    "print('Test score: ', grid_elasticnet_test_score)\n"
   ]
  },
  {
   "cell_type": "markdown",
   "metadata": {},
   "source": [
    "### Having worked on multiple models for the titanic dataset, we have concluded that the below algorithm with the specified parameters will give us a best result for regression task in predicting the value of the target variable 'Saleprice'\n",
    "\n",
    "The best model choosen based on CV score is : Lasso\n",
    "\n",
    "The Mean Cross validation score of Lasso: 0.89\n",
    "\n",
    "Though Linear SVM also had the same Mean Cross validation score of 0.89, Lasso was chosen since it is a simpler model\n",
    "\n",
    "The parameters for this model are: {'alpha': 500}\n",
    "\n",
    "Test score of this model is : 0.88\n",
    "\n",
    "Train score of best model is : 0.91"
   ]
  },
  {
   "cell_type": "markdown",
   "metadata": {},
   "source": [
    "### Ensemble Model"
   ]
  },
  {
   "cell_type": "markdown",
   "metadata": {},
   "source": [
    "### Bagging "
   ]
  },
  {
   "cell_type": "code",
   "execution_count": 43,
   "metadata": {},
   "outputs": [],
   "source": [
    "from sklearn.ensemble import BaggingRegressor\n",
    "from sklearn.tree import DecisionTreeClassifier\n",
    "\n",
    "import warnings\n",
    "warnings.filterwarnings('ignore')"
   ]
  },
  {
   "cell_type": "code",
   "execution_count": 44,
   "metadata": {},
   "outputs": [
    {
     "data": {
      "text/plain": [
       "GridSearchCV(cv=5,\n",
       "             estimator=BaggingRegressor(base_estimator=DecisionTreeRegressor(),\n",
       "                                        oob_score=True, random_state=0),\n",
       "             param_grid={'base_estimator__max_depth': range(1, 10),\n",
       "                         'max_samples': [0.8, 1],\n",
       "                         'n_estimators': [10, 25, 100]},\n",
       "             return_train_score=True)"
      ]
     },
     "execution_count": 44,
     "metadata": {},
     "output_type": "execute_result"
    }
   ],
   "source": [
    "# Model 1 : Decision Tree\n",
    "bag_dtree1 = BaggingRegressor(base_estimator=DecisionTreeRegressor(), bootstrap=True, random_state=0, oob_score=True)\n",
    "\n",
    "bag_dtree1_param = {\n",
    "                 'base_estimator__max_depth': range(1,10),\n",
    "                 'max_samples':  [0.8,1],\n",
    "                 'n_estimators': [10,25,100]}\n",
    "bag_dtree1_grid = GridSearchCV(bag_dtree1, bag_dtree1_param,cv=5, return_train_score=True, )\n",
    "bag_dtree1_grid.fit(X_train,y_train)"
   ]
  },
  {
   "cell_type": "code",
   "execution_count": 45,
   "metadata": {},
   "outputs": [
    {
     "name": "stdout",
     "output_type": "stream",
     "text": [
      "Best Mean Cross Validation Score is 0.8719254507436013\n",
      "Best Mean Cross Validation Score is {'base_estimator__max_depth': 9, 'max_samples': 0.8, 'n_estimators': 100}\n",
      "Train score is 0.9635317754898752\n",
      "Test score is 0.8577070490736325\n"
     ]
    }
   ],
   "source": [
    "print(f'Best Mean Cross Validation Score is {bag_dtree1_grid.best_score_}')\n",
    "print(f'Best Mean Cross Validation Score is {bag_dtree1_grid.best_params_}')\n",
    "print(f'Train score is {bag_dtree1_grid.score(X_train,y_train)}')\n",
    "print(f'Test score is {bag_dtree1_grid.score(X_test,y_test)}')"
   ]
  },
  {
   "cell_type": "code",
   "execution_count": 46,
   "metadata": {},
   "outputs": [
    {
     "data": {
      "text/plain": [
       "GridSearchCV(cv=5,\n",
       "             estimator=BaggingRegressor(base_estimator=DecisionTreeRegressor(max_depth=8,\n",
       "                                                                             max_leaf_nodes=5,\n",
       "                                                                             min_samples_split=3,\n",
       "                                                                             splitter='random'),\n",
       "                                        oob_score=True, random_state=0),\n",
       "             param_grid={'max_samples': [0.8, 1],\n",
       "                         'n_estimators': [10, 25, 100]},\n",
       "             return_train_score=True)"
      ]
     },
     "execution_count": 46,
     "metadata": {},
     "output_type": "execute_result"
    }
   ],
   "source": [
    "bag_dtree2 = BaggingRegressor(DecisionTreeRegressor(max_depth= 8, max_leaf_nodes=5, min_samples_split= 3, splitter= 'random'), bootstrap=True, random_state=0, oob_score=True)\n",
    "\n",
    "bag_dtree2_param = {\n",
    "                 'max_samples':  [0.8,1],\n",
    "                 'n_estimators': [10,25,100]}\n",
    "bag_dtree2_grid = GridSearchCV(bag_dtree2, bag_dtree2_param,cv=5, return_train_score=True, )\n",
    "bag_dtree2_grid.fit(X_train,y_train)"
   ]
  },
  {
   "cell_type": "code",
   "execution_count": 47,
   "metadata": {},
   "outputs": [
    {
     "name": "stdout",
     "output_type": "stream",
     "text": [
      "Best Mean Cross Validation Score is 0.7401091115533307\n",
      "Best Mean Cross Validation Score is {'max_samples': 0.8, 'n_estimators': 100}\n",
      "Train score is 0.7627671657000983\n",
      "Test score is 0.7449385866252771\n"
     ]
    }
   ],
   "source": [
    "print(f'Best Mean Cross Validation Score is {bag_dtree2_grid.best_score_}')\n",
    "print(f'Best Mean Cross Validation Score is {bag_dtree2_grid.best_params_}')\n",
    "print(f'Train score is {bag_dtree2_grid.score(X_train,y_train)}')\n",
    "print(f'Test score is {bag_dtree2_grid.score(X_test,y_test)}')"
   ]
  },
  {
   "cell_type": "code",
   "execution_count": 131,
   "metadata": {},
   "outputs": [
    {
     "data": {
      "text/plain": [
       "GridSearchCV(cv=5,\n",
       "             estimator=BaggingRegressor(base_estimator=Lasso(), oob_score=True,\n",
       "                                        random_state=0),\n",
       "             param_grid={'base_estimator__alpha': [50, 100, 200, 500]},\n",
       "             return_train_score=True)"
      ]
     },
     "execution_count": 131,
     "metadata": {},
     "output_type": "execute_result"
    }
   ],
   "source": [
    "# Model 2 : Best model - Lasso\n",
    "bag_logreg1 = BaggingRegressor(base_estimator=Lasso(), bootstrap=True, random_state=0, oob_score=True)\n",
    "\n",
    "bag_logreg1_param = {'base_estimator__alpha':[50,100,200,500]}\n",
    "bag_logreg1_grid = GridSearchCV(bag_logreg1, bag_logreg1_param,cv=5, return_train_score=True, )\n",
    "bag_logreg1_grid.fit(X_train,y_train)"
   ]
  },
  {
   "cell_type": "code",
   "execution_count": 132,
   "metadata": {},
   "outputs": [
    {
     "name": "stdout",
     "output_type": "stream",
     "text": [
      "Best Mean Cross Validation Score is 0.8850592151574153\n",
      "Best Mean Cross Validation Score is {'base_estimator__alpha': 500}\n",
      "Train score is 0.9083671561828881\n",
      "Test score is 0.8830170011564082\n"
     ]
    }
   ],
   "source": [
    "print(f'Best Mean Cross Validation Score is {paste_logreg1_grid.best_score_}')\n",
    "print(f'Best Mean Cross Validation Score is {paste_logreg1_grid.best_params_}')\n",
    "print(f'Train score is {paste_logreg1_grid.score(X_train,y_train)}')\n",
    "print(f'Test score is {paste_logreg1_grid.score(X_test,y_test)}')"
   ]
  },
  {
   "cell_type": "markdown",
   "metadata": {},
   "source": [
    "### Pasting"
   ]
  },
  {
   "cell_type": "code",
   "execution_count": 55,
   "metadata": {},
   "outputs": [
    {
     "data": {
      "text/plain": [
       "GridSearchCV(cv=5,\n",
       "             estimator=BaggingRegressor(base_estimator=DecisionTreeRegressor(),\n",
       "                                        bootstrap=False, random_state=0),\n",
       "             param_grid={'base_estimator__max_depth': range(1, 10),\n",
       "                         'max_samples': [0.8, 1],\n",
       "                         'n_estimators': [10, 25, 100]},\n",
       "             return_train_score=True)"
      ]
     },
     "execution_count": 55,
     "metadata": {},
     "output_type": "execute_result"
    }
   ],
   "source": [
    "# Model 1 : Decsion tree\n",
    "paste_dtree1 = BaggingRegressor(base_estimator=DecisionTreeRegressor(), bootstrap=False, random_state=0, oob_score=False)\n",
    "\n",
    "paste_dtree1_param = {\n",
    "                 'base_estimator__max_depth': range(1,10),\n",
    "                 'max_samples':  [0.8,1],\n",
    "                 'n_estimators': [10,25,100]}\n",
    "paste_dtree1_grid = GridSearchCV(paste_dtree1, paste_dtree1_param,cv=5, return_train_score=True, )\n",
    "paste_dtree1_grid.fit(X_train,y_train)"
   ]
  },
  {
   "cell_type": "code",
   "execution_count": 56,
   "metadata": {},
   "outputs": [
    {
     "name": "stdout",
     "output_type": "stream",
     "text": [
      "Best Mean Cross Validation Score is 0.8589386365557379\n",
      "Best Mean Cross Validation Score is {'base_estimator__max_depth': 9, 'max_samples': 0.8, 'n_estimators': 100}\n",
      "Train score is 0.9779227079319965\n",
      "Test score is 0.8544718953914988\n"
     ]
    }
   ],
   "source": [
    "print(f'Best Mean Cross Validation Score is {paste_dtree1_grid.best_score_}')\n",
    "print(f'Best Mean Cross Validation Score is {paste_dtree1_grid.best_params_}')\n",
    "print(f'Train score is {paste_dtree1_grid.score(X_train,y_train)}')\n",
    "print(f'Test score is {paste_dtree1_grid.score(X_test,y_test)}')"
   ]
  },
  {
   "cell_type": "code",
   "execution_count": 57,
   "metadata": {},
   "outputs": [
    {
     "data": {
      "text/plain": [
       "GridSearchCV(cv=5,\n",
       "             estimator=BaggingRegressor(base_estimator=DecisionTreeRegressor(max_depth=8,\n",
       "                                                                             max_leaf_nodes=5,\n",
       "                                                                             min_samples_split=3,\n",
       "                                                                             splitter='random'),\n",
       "                                        bootstrap=False, random_state=0),\n",
       "             param_grid={'max_samples': [0.8, 1],\n",
       "                         'n_estimators': [10, 25, 100]},\n",
       "             return_train_score=True)"
      ]
     },
     "execution_count": 57,
     "metadata": {},
     "output_type": "execute_result"
    }
   ],
   "source": [
    "paste_dtree2 = BaggingRegressor(DecisionTreeRegressor(max_depth= 8, max_leaf_nodes=5, min_samples_split= 3, splitter= 'random'), bootstrap=False, random_state=0, oob_score=False)\n",
    "\n",
    "paste_dtree2_param = {\n",
    "                 'max_samples':  [0.8,1],\n",
    "                 'n_estimators': [10,25,100]}\n",
    "paste_dtree2_grid = GridSearchCV(paste_dtree2, paste_dtree2_param,cv=5, return_train_score=True, )\n",
    "paste_dtree2_grid.fit(X_train,y_train)"
   ]
  },
  {
   "cell_type": "code",
   "execution_count": 58,
   "metadata": {},
   "outputs": [
    {
     "name": "stdout",
     "output_type": "stream",
     "text": [
      "Best Mean Cross Validation Score is 0.7333186678665085\n",
      "Best Mean Cross Validation Score is {'max_samples': 0.8, 'n_estimators': 100}\n",
      "Train score is 0.7592548187189155\n",
      "Test score is 0.7358144792293797\n"
     ]
    }
   ],
   "source": [
    "print(f'Best Mean Cross Validation Score is {paste_dtree2_grid.best_score_}')\n",
    "print(f'Best Mean Cross Validation Score is {paste_dtree2_grid.best_params_}')\n",
    "print(f'Train score is {paste_dtree2_grid.score(X_train,y_train)}')\n",
    "print(f'Test score is {paste_dtree2_grid.score(X_test,y_test)}')"
   ]
  },
  {
   "cell_type": "code",
   "execution_count": 61,
   "metadata": {},
   "outputs": [
    {
     "data": {
      "text/plain": [
       "GridSearchCV(cv=5,\n",
       "             estimator=BaggingRegressor(base_estimator=Lasso(), bootstrap=False,\n",
       "                                        random_state=0),\n",
       "             param_grid={'base_estimator__alpha': [50, 100, 200, 500]},\n",
       "             return_train_score=True)"
      ]
     },
     "execution_count": 61,
     "metadata": {},
     "output_type": "execute_result"
    }
   ],
   "source": [
    "# Model 2 : Best model - Lasso\n",
    "paste_logreg1 = BaggingRegressor(base_estimator=Lasso(), bootstrap=False, random_state=0, oob_score=False)\n",
    "\n",
    "paste_logreg1_param = {\n",
    "                 'base_estimator__alpha':[50,100,200,500]}\n",
    "paste_logreg1_grid = GridSearchCV(paste_logreg1, paste_logreg1_param,cv=5, return_train_score=True, )\n",
    "paste_logreg1_grid.fit(X_train,y_train)"
   ]
  },
  {
   "cell_type": "code",
   "execution_count": 62,
   "metadata": {},
   "outputs": [
    {
     "name": "stdout",
     "output_type": "stream",
     "text": [
      "Best Mean Cross Validation Score is 0.8850592151574153\n",
      "Best Mean Cross Validation Score is {'base_estimator__alpha': 500}\n",
      "Train score is 0.9083671561828881\n",
      "Test score is 0.8830170011564082\n"
     ]
    }
   ],
   "source": [
    "print(f'Best Mean Cross Validation Score is {paste_logreg1_grid.best_score_}')\n",
    "print(f'Best Mean Cross Validation Score is {paste_logreg1_grid.best_params_}')\n",
    "print(f'Train score is {paste_logreg1_grid.score(X_train,y_train)}')\n",
    "print(f'Test score is {paste_logreg1_grid.score(X_test,y_test)}')"
   ]
  },
  {
   "cell_type": "markdown",
   "metadata": {},
   "source": [
    "### Random Forest"
   ]
  },
  {
   "cell_type": "code",
   "execution_count": 63,
   "metadata": {},
   "outputs": [],
   "source": [
    "from sklearn.ensemble import RandomForestRegressor\n",
    "from sklearn.model_selection import GridSearchCV\n",
    "\n",
    "forest_reg = RandomForestRegressor(n_estimators=100, max_features = 50, random_state=42)"
   ]
  },
  {
   "cell_type": "code",
   "execution_count": 64,
   "metadata": {},
   "outputs": [
    {
     "data": {
      "text/plain": [
       "array([0.1334621 , 0.1552624 , 0.15958983, 0.13380798, 0.13055498])"
      ]
     },
     "execution_count": 64,
     "metadata": {},
     "output_type": "execute_result"
    }
   ],
   "source": [
    "from sklearn.model_selection import cross_val_score\n",
    "\n",
    "scores = cross_val_score(forest_reg, X_train, y_train,\n",
    "                         scoring=\"neg_mean_squared_log_error\", cv=5)\n",
    "forest_rmse_scores = np.sqrt(-scores)\n",
    "forest_rmse_scores"
   ]
  },
  {
   "cell_type": "code",
   "execution_count": 105,
   "metadata": {},
   "outputs": [],
   "source": [
    "param_grid = [{'max_features':[40, 50, 60]}]\n",
    "\n",
    "# 'bootstrap':[True, False], 'ccp_alpha':[0.0, 0.5],\n",
    "\n",
    "rfc_grid = GridSearchCV(forest_reg, param_grid, cv=5,\n",
    "                           scoring='neg_mean_squared_log_error', return_train_score=True, n_jobs=-1)"
   ]
  },
  {
   "cell_type": "code",
   "execution_count": 106,
   "metadata": {},
   "outputs": [
    {
     "data": {
      "text/plain": [
       "GridSearchCV(cv=5,\n",
       "             estimator=RandomForestRegressor(max_features=50, random_state=42),\n",
       "             n_jobs=-1, param_grid=[{'max_features': [40, 50, 60]}],\n",
       "             return_train_score=True, scoring='neg_mean_squared_log_error')"
      ]
     },
     "execution_count": 106,
     "metadata": {},
     "output_type": "execute_result"
    }
   ],
   "source": [
    "rfc_grid.fit(X_train, y_train)"
   ]
  },
  {
   "cell_type": "code",
   "execution_count": 107,
   "metadata": {},
   "outputs": [
    {
     "data": {
      "text/plain": [
       "{'max_features': 40}"
      ]
     },
     "execution_count": 107,
     "metadata": {},
     "output_type": "execute_result"
    }
   ],
   "source": [
    "rfc_grid.best_params_"
   ]
  },
  {
   "cell_type": "code",
   "execution_count": 108,
   "metadata": {},
   "outputs": [
    {
     "data": {
      "text/plain": [
       "{'mean_fit_time': array([2.05914869, 2.44146566, 2.59992905]),\n",
       " 'std_fit_time': array([0.03025796, 0.01846457, 0.09656181]),\n",
       " 'mean_score_time': array([0.03761468, 0.03995643, 0.03013067]),\n",
       " 'std_score_time': array([0.00254372, 0.00096693, 0.00409751]),\n",
       " 'param_max_features': masked_array(data=[40, 50, 60],\n",
       "              mask=[False, False, False],\n",
       "        fill_value='?',\n",
       "             dtype=object),\n",
       " 'params': [{'max_features': 40}, {'max_features': 50}, {'max_features': 60}],\n",
       " 'split0_test_score': array([-0.01717618, -0.01781213, -0.0182326 ]),\n",
       " 'split1_test_score': array([-0.02383495, -0.02410641, -0.02522096]),\n",
       " 'split2_test_score': array([-0.02515606, -0.02546891, -0.02466758]),\n",
       " 'split3_test_score': array([-0.01764483, -0.01790458, -0.01790175]),\n",
       " 'split4_test_score': array([-0.01673318, -0.0170446 , -0.01716545]),\n",
       " 'mean_test_score': array([-0.02010904, -0.02046733, -0.02063767]),\n",
       " 'std_test_score': array([0.00361733, 0.00356628, 0.00353759]),\n",
       " 'rank_test_score': array([1, 2, 3]),\n",
       " 'split0_train_score': array([-0.00336416, -0.00333177, -0.00346905]),\n",
       " 'split1_train_score': array([-0.00321904, -0.00308771, -0.00313098]),\n",
       " 'split2_train_score': array([-0.00315906, -0.00311986, -0.00314355]),\n",
       " 'split3_train_score': array([-0.00335987, -0.00337173, -0.00331418]),\n",
       " 'split4_train_score': array([-0.00337127, -0.00337659, -0.00341908]),\n",
       " 'mean_train_score': array([-0.00329468, -0.00325753, -0.00329537]),\n",
       " 'std_train_score': array([8.83818525e-05, 1.26899780e-04, 1.38489388e-04])}"
      ]
     },
     "execution_count": 108,
     "metadata": {},
     "output_type": "execute_result"
    }
   ],
   "source": [
    "cvres = rfc_grid.cv_results_\n",
    "cvres"
   ]
  },
  {
   "cell_type": "code",
   "execution_count": 109,
   "metadata": {},
   "outputs": [
    {
     "data": {
      "text/plain": [
       "RandomForestRegressor(max_features=50, random_state=42)"
      ]
     },
     "execution_count": 109,
     "metadata": {},
     "output_type": "execute_result"
    }
   ],
   "source": [
    "forest_reg.fit(X_train, y_train)"
   ]
  },
  {
   "cell_type": "code",
   "execution_count": 110,
   "metadata": {},
   "outputs": [
    {
     "data": {
      "text/plain": [
       "0.8785986950771597"
      ]
     },
     "execution_count": 110,
     "metadata": {},
     "output_type": "execute_result"
    }
   ],
   "source": [
    "forest_reg.score(X_test,y_test)"
   ]
  },
  {
   "cell_type": "markdown",
   "metadata": {},
   "source": [
    "### Ada Boosting "
   ]
  },
  {
   "cell_type": "code",
   "execution_count": 71,
   "metadata": {},
   "outputs": [],
   "source": [
    "from sklearn.ensemble import AdaBoostRegressor\n",
    "    \n",
    "ada_reg = AdaBoostRegressor(n_estimators=200, random_state= 42)"
   ]
  },
  {
   "cell_type": "code",
   "execution_count": 72,
   "metadata": {},
   "outputs": [
    {
     "data": {
      "text/plain": [
       "array([0.22292098, 0.21642821, 0.22573488, 0.1957366 , 0.19800051])"
      ]
     },
     "execution_count": 72,
     "metadata": {},
     "output_type": "execute_result"
    }
   ],
   "source": [
    "scores = cross_val_score(ada_reg, X_train, y_train,\n",
    "                         scoring=\"neg_mean_squared_log_error\", cv=5)\n",
    "ada_rmse_scores = np.sqrt(-scores)\n",
    "ada_rmse_scores"
   ]
  },
  {
   "cell_type": "code",
   "execution_count": 111,
   "metadata": {},
   "outputs": [],
   "source": [
    "param_grid = [{'n_estimators':[100, 150, 200]}]\n",
    "\n",
    "adc_dtree_grid = GridSearchCV(ada_reg, param_grid, cv=5,\n",
    "                           scoring='neg_mean_squared_log_error', return_train_score=True, n_jobs=-1)"
   ]
  },
  {
   "cell_type": "code",
   "execution_count": 112,
   "metadata": {},
   "outputs": [
    {
     "data": {
      "text/plain": [
       "GridSearchCV(cv=5,\n",
       "             estimator=AdaBoostRegressor(n_estimators=200, random_state=42),\n",
       "             n_jobs=-1, param_grid=[{'n_estimators': [100, 150, 200]}],\n",
       "             return_train_score=True, scoring='neg_mean_squared_log_error')"
      ]
     },
     "execution_count": 112,
     "metadata": {},
     "output_type": "execute_result"
    }
   ],
   "source": [
    "adc_dtree_grid.fit(X_train, y_train)"
   ]
  },
  {
   "cell_type": "code",
   "execution_count": 113,
   "metadata": {},
   "outputs": [
    {
     "data": {
      "text/plain": [
       "{'n_estimators': 100}"
      ]
     },
     "execution_count": 113,
     "metadata": {},
     "output_type": "execute_result"
    }
   ],
   "source": [
    "adc_dtree_grid.best_params_"
   ]
  },
  {
   "cell_type": "code",
   "execution_count": 114,
   "metadata": {},
   "outputs": [
    {
     "data": {
      "text/plain": [
       "{'mean_fit_time': array([1.54452214, 2.23930621, 2.57946801]),\n",
       " 'std_fit_time': array([0.04951923, 0.08140401, 0.12733916]),\n",
       " 'mean_score_time': array([0.05818205, 0.07740445, 0.07827973]),\n",
       " 'std_score_time': array([0.00858605, 0.01452157, 0.01636883]),\n",
       " 'param_n_estimators': masked_array(data=[100, 150, 200],\n",
       "              mask=[False, False, False],\n",
       "        fill_value='?',\n",
       "             dtype=object),\n",
       " 'params': [{'n_estimators': 100},\n",
       "  {'n_estimators': 150},\n",
       "  {'n_estimators': 200}],\n",
       " 'split0_test_score': array([-0.04305827, -0.04824566, -0.04969377]),\n",
       " 'split1_test_score': array([-0.04595862, -0.04608239, -0.04684117]),\n",
       " 'split2_test_score': array([-0.05152014, -0.05075527, -0.05095624]),\n",
       " 'split3_test_score': array([-0.03781733, -0.03797548, -0.03831281]),\n",
       " 'split4_test_score': array([-0.04061107, -0.03856221, -0.0392042 ]),\n",
       " 'mean_test_score': array([-0.04379309, -0.0443242 , -0.04500164]),\n",
       " 'std_test_score': array([0.00470684, 0.005164  , 0.00527651]),\n",
       " 'rank_test_score': array([1, 2, 3]),\n",
       " 'split0_train_score': array([-0.04188174, -0.04675365, -0.04804811]),\n",
       " 'split1_train_score': array([-0.03213545, -0.03327463, -0.03368788]),\n",
       " 'split2_train_score': array([-0.0343737 , -0.03424977, -0.03458548]),\n",
       " 'split3_train_score': array([-0.03787062, -0.03837674, -0.03839021]),\n",
       " 'split4_train_score': array([-0.0411222 , -0.04025831, -0.04066536]),\n",
       " 'mean_train_score': array([-0.03747674, -0.03858262, -0.03907541]),\n",
       " 'std_train_score': array([0.00376847, 0.00482834, 0.00515154])}"
      ]
     },
     "execution_count": 114,
     "metadata": {},
     "output_type": "execute_result"
    }
   ],
   "source": [
    "cvres = adc_dtree_grid.cv_results_\n",
    "cvres"
   ]
  },
  {
   "cell_type": "code",
   "execution_count": 77,
   "metadata": {},
   "outputs": [
    {
     "data": {
      "text/plain": [
       "AdaBoostRegressor(n_estimators=200, random_state=42)"
      ]
     },
     "execution_count": 77,
     "metadata": {},
     "output_type": "execute_result"
    }
   ],
   "source": [
    "ada_reg.fit(X_train, y_train)"
   ]
  },
  {
   "cell_type": "code",
   "execution_count": 78,
   "metadata": {},
   "outputs": [
    {
     "data": {
      "text/plain": [
       "0.8175147249819497"
      ]
     },
     "execution_count": 78,
     "metadata": {},
     "output_type": "execute_result"
    }
   ],
   "source": [
    "ada_reg.score(X_test,y_test)"
   ]
  },
  {
   "cell_type": "markdown",
   "metadata": {},
   "source": [
    "### Gradient Boosting"
   ]
  },
  {
   "cell_type": "code",
   "execution_count": 79,
   "metadata": {},
   "outputs": [],
   "source": [
    "from sklearn.ensemble import GradientBoostingRegressor\n",
    "    \n",
    "grad_boost_reg = GradientBoostingRegressor(n_estimators=100, loss='ls', max_depth=5, learning_rate=0.2, min_samples_split=2)"
   ]
  },
  {
   "cell_type": "code",
   "execution_count": 80,
   "metadata": {},
   "outputs": [
    {
     "data": {
      "text/plain": [
       "array([0.13301053, 0.15254066, 0.14679815, 0.12966456, 0.12818113])"
      ]
     },
     "execution_count": 80,
     "metadata": {},
     "output_type": "execute_result"
    }
   ],
   "source": [
    "import warnings\n",
    "warnings.filterwarnings('ignore')\n",
    "\n",
    "scores = cross_val_score(grad_boost_reg, X_train, y_train,\n",
    "                         scoring=\"neg_mean_squared_log_error\", cv=5)\n",
    "grad_rmse_scores = np.sqrt(-scores)\n",
    "grad_rmse_scores"
   ]
  },
  {
   "cell_type": "code",
   "execution_count": 115,
   "metadata": {},
   "outputs": [],
   "source": [
    "param_grid = [{'max_features': [50, 100, 150]}]\n",
    "\n",
    "gbc_grid = GridSearchCV(grad_boost_reg, param_grid, cv=5,\n",
    "                           scoring='neg_mean_squared_log_error', return_train_score=True, n_jobs=-1)"
   ]
  },
  {
   "cell_type": "code",
   "execution_count": 116,
   "metadata": {},
   "outputs": [
    {
     "data": {
      "text/plain": [
       "GridSearchCV(cv=5,\n",
       "             estimator=GradientBoostingRegressor(learning_rate=0.2,\n",
       "                                                 max_depth=5),\n",
       "             n_jobs=-1, param_grid=[{'max_features': [50, 100, 150]}],\n",
       "             return_train_score=True, scoring='neg_mean_squared_log_error')"
      ]
     },
     "execution_count": 116,
     "metadata": {},
     "output_type": "execute_result"
    }
   ],
   "source": [
    "gbc_grid.fit(X_train, y_train)"
   ]
  },
  {
   "cell_type": "code",
   "execution_count": 117,
   "metadata": {},
   "outputs": [
    {
     "data": {
      "text/plain": [
       "{'max_features': 50}"
      ]
     },
     "execution_count": 117,
     "metadata": {},
     "output_type": "execute_result"
    }
   ],
   "source": [
    "gbc_grid.best_params_"
   ]
  },
  {
   "cell_type": "code",
   "execution_count": 118,
   "metadata": {},
   "outputs": [
    {
     "data": {
      "text/plain": [
       "{'mean_fit_time': array([0.93574848, 0.01356554, 0.01281805]),\n",
       " 'std_fit_time': array([0.00887071, 0.00284788, 0.00131089]),\n",
       " 'mean_score_time': array([0.00775599, 0.        , 0.        ]),\n",
       " 'std_score_time': array([0.00212339, 0.        , 0.        ]),\n",
       " 'param_max_features': masked_array(data=[50, 100, 150],\n",
       "              mask=[False, False, False],\n",
       "        fill_value='?',\n",
       "             dtype=object),\n",
       " 'params': [{'max_features': 50},\n",
       "  {'max_features': 100},\n",
       "  {'max_features': 150}],\n",
       " 'split0_test_score': array([-0.01875882,         nan,         nan]),\n",
       " 'split1_test_score': array([-0.02198442,         nan,         nan]),\n",
       " 'split2_test_score': array([-0.02284122,         nan,         nan]),\n",
       " 'split3_test_score': array([-0.01676321,         nan,         nan]),\n",
       " 'split4_test_score': array([-0.01494315,         nan,         nan]),\n",
       " 'mean_test_score': array([-0.01905816,         nan,         nan]),\n",
       " 'std_test_score': array([0.00300547,        nan,        nan]),\n",
       " 'rank_test_score': array([1, 2, 3]),\n",
       " 'split0_train_score': array([-0.00123137,         nan,         nan]),\n",
       " 'split1_train_score': array([-0.00119585,         nan,         nan]),\n",
       " 'split2_train_score': array([-0.00119793,         nan,         nan]),\n",
       " 'split3_train_score': array([-0.0012202,        nan,        nan]),\n",
       " 'split4_train_score': array([-0.00099358,         nan,         nan]),\n",
       " 'mean_train_score': array([-0.00116779,         nan,         nan]),\n",
       " 'std_train_score': array([8.81291039e-05,            nan,            nan])}"
      ]
     },
     "execution_count": 118,
     "metadata": {},
     "output_type": "execute_result"
    }
   ],
   "source": [
    "cvres = gbc_grid.cv_results_\n",
    "cvres"
   ]
  },
  {
   "cell_type": "code",
   "execution_count": 85,
   "metadata": {},
   "outputs": [
    {
     "data": {
      "text/plain": [
       "GradientBoostingRegressor(learning_rate=0.2, max_depth=5)"
      ]
     },
     "execution_count": 85,
     "metadata": {},
     "output_type": "execute_result"
    }
   ],
   "source": [
    "grad_boost_reg.fit(X_train,y_train)"
   ]
  },
  {
   "cell_type": "code",
   "execution_count": 86,
   "metadata": {},
   "outputs": [
    {
     "data": {
      "text/plain": [
       "0.8755320015792196"
      ]
     },
     "execution_count": 86,
     "metadata": {},
     "output_type": "execute_result"
    }
   ],
   "source": [
    "grad_boost_reg.score(X_test, y_test)"
   ]
  },
  {
   "cell_type": "markdown",
   "metadata": {},
   "source": [
    "### Extra Trees"
   ]
  },
  {
   "cell_type": "code",
   "execution_count": 87,
   "metadata": {},
   "outputs": [],
   "source": [
    "from sklearn.ensemble import ExtraTreesRegressor\n",
    "    \n",
    "extra_trees_reg = ExtraTreesRegressor(random_state = 42, bootstrap = False,\n",
    "                                     max_features = 80, n_estimators = 100)"
   ]
  },
  {
   "cell_type": "code",
   "execution_count": 88,
   "metadata": {},
   "outputs": [
    {
     "data": {
      "text/plain": [
       "array([0.14607055, 0.12466429, 0.11810658, 0.19780124, 0.1611475 ,\n",
       "       0.16612686, 0.13386193, 0.12722945, 0.11343366, 0.12043785])"
      ]
     },
     "execution_count": 88,
     "metadata": {},
     "output_type": "execute_result"
    }
   ],
   "source": [
    "\n",
    "scores = cross_val_score(extra_trees_reg, X_train, y_train,\n",
    "                         scoring=\"neg_mean_squared_log_error\", cv=10)\n",
    "extra_rmse_scores = np.sqrt(-scores)\n",
    "extra_rmse_scores"
   ]
  },
  {
   "cell_type": "code",
   "execution_count": 119,
   "metadata": {},
   "outputs": [],
   "source": [
    "param_grid = [{'n_estimators':[80, 100, 120]}]\n",
    "\n",
    "etc_grid = GridSearchCV(extra_trees_reg, param_grid, cv=5,\n",
    "                           scoring='neg_mean_squared_log_error', return_train_score=True, n_jobs=-1)"
   ]
  },
  {
   "cell_type": "code",
   "execution_count": 120,
   "metadata": {},
   "outputs": [
    {
     "data": {
      "text/plain": [
       "GridSearchCV(cv=5,\n",
       "             estimator=ExtraTreesRegressor(max_features=80, random_state=42),\n",
       "             n_jobs=-1, param_grid=[{'n_estimators': [80, 100, 120]}],\n",
       "             return_train_score=True, scoring='neg_mean_squared_log_error')"
      ]
     },
     "execution_count": 120,
     "metadata": {},
     "output_type": "execute_result"
    }
   ],
   "source": [
    "etc_grid.fit(X_train, y_train)"
   ]
  },
  {
   "cell_type": "code",
   "execution_count": 121,
   "metadata": {},
   "outputs": [
    {
     "data": {
      "text/plain": [
       "{'n_estimators': 120}"
      ]
     },
     "execution_count": 121,
     "metadata": {},
     "output_type": "execute_result"
    }
   ],
   "source": [
    "etc_grid.best_params_"
   ]
  },
  {
   "cell_type": "code",
   "execution_count": 122,
   "metadata": {},
   "outputs": [
    {
     "data": {
      "text/plain": [
       "{'mean_fit_time': array([2.97536464, 3.74657283, 4.09296846]),\n",
       " 'std_fit_time': array([0.1067486 , 0.17929606, 0.12707774]),\n",
       " 'mean_score_time': array([0.03461032, 0.03851261, 0.03284044]),\n",
       " 'std_score_time': array([0.00481643, 0.00401556, 0.00392377]),\n",
       " 'param_n_estimators': masked_array(data=[80, 100, 120],\n",
       "              mask=[False, False, False],\n",
       "        fill_value='?',\n",
       "             dtype=object),\n",
       " 'params': [{'n_estimators': 80},\n",
       "  {'n_estimators': 100},\n",
       "  {'n_estimators': 120}],\n",
       " 'split0_test_score': array([-0.01770399, -0.01758429, -0.01750103]),\n",
       " 'split1_test_score': array([-0.02405349, -0.0240028 , -0.02398516]),\n",
       " 'split2_test_score': array([-0.02583947, -0.02589725, -0.02559625]),\n",
       " 'split3_test_score': array([-0.01813382, -0.0177417 , -0.01749306]),\n",
       " 'split4_test_score': array([-0.01555939, -0.01549976, -0.01541815]),\n",
       " 'mean_test_score': array([-0.02025803, -0.02014516, -0.01999873]),\n",
       " 'std_test_score': array([0.00396663, 0.00404679, 0.00401802]),\n",
       " 'rank_test_score': array([3, 2, 1]),\n",
       " 'split0_train_score': array([-1.87451289e-06, -1.87451289e-06, -1.87451289e-06]),\n",
       " 'split1_train_score': array([-1.87451289e-06, -1.87451289e-06, -1.87451289e-06]),\n",
       " 'split2_train_score': array([-0., -0., -0.]),\n",
       " 'split3_train_score': array([-3.77557797e-07, -3.77557797e-07, -3.77557797e-07]),\n",
       " 'split4_train_score': array([-1.87273104e-06, -1.87273104e-06, -1.87273104e-06]),\n",
       " 'mean_train_score': array([-1.19986292e-06, -1.19986292e-06, -1.19986292e-06]),\n",
       " 'std_train_score': array([8.34135891e-07, 8.34135891e-07, 8.34135891e-07])}"
      ]
     },
     "execution_count": 122,
     "metadata": {},
     "output_type": "execute_result"
    }
   ],
   "source": [
    "cvres = etc_grid.cv_results_\n",
    "cvres"
   ]
  },
  {
   "cell_type": "code",
   "execution_count": 93,
   "metadata": {},
   "outputs": [
    {
     "data": {
      "text/plain": [
       "ExtraTreesRegressor(max_features=80, random_state=42)"
      ]
     },
     "execution_count": 93,
     "metadata": {},
     "output_type": "execute_result"
    }
   ],
   "source": [
    "extra_trees_reg.fit(X_train, y_train)"
   ]
  },
  {
   "cell_type": "code",
   "execution_count": 94,
   "metadata": {},
   "outputs": [
    {
     "data": {
      "text/plain": [
       "0.8491413324995161"
      ]
     },
     "execution_count": 94,
     "metadata": {},
     "output_type": "execute_result"
    }
   ],
   "source": [
    "extra_trees_reg.score(X_test,y_test)"
   ]
  },
  {
   "cell_type": "markdown",
   "metadata": {},
   "source": [
    "### XG Boosting"
   ]
  },
  {
   "cell_type": "code",
   "execution_count": 95,
   "metadata": {},
   "outputs": [],
   "source": [
    "from xgboost import XGBRegressor\n",
    "from sklearn.metrics import explained_variance_score\n",
    "xg_boost_reg = XGBRegressor(n_estimators=80, max_depth=6, learning_rate=0.1, objective='reg:squarederror')"
   ]
  },
  {
   "cell_type": "code",
   "execution_count": 96,
   "metadata": {},
   "outputs": [
    {
     "data": {
      "text/plain": [
       "array([0.13426304, 0.11188645, 0.11257381, 0.1691683 , 0.14596074,\n",
       "       0.15723219, 0.12371092, 0.12771265, 0.12138122, 0.11506482])"
      ]
     },
     "execution_count": 96,
     "metadata": {},
     "output_type": "execute_result"
    }
   ],
   "source": [
    "scores = cross_val_score(xg_boost_reg, X_train, y_train,\n",
    "                         scoring=\"neg_mean_squared_log_error\", cv=10)\n",
    "extra_rmse_scores = np.sqrt(-scores)\n",
    "extra_rmse_scores"
   ]
  },
  {
   "cell_type": "code",
   "execution_count": 123,
   "metadata": {},
   "outputs": [],
   "source": [
    "param_grid = [{'n_estimators':[80, 100, 120]}]\n",
    "\n",
    "xgbc_grid = GridSearchCV(xg_boost_reg, param_grid, cv=5,\n",
    "                           scoring='neg_mean_squared_log_error', return_train_score=True, n_jobs=-1)"
   ]
  },
  {
   "cell_type": "code",
   "execution_count": 124,
   "metadata": {},
   "outputs": [
    {
     "data": {
      "text/plain": [
       "GridSearchCV(cv=5,\n",
       "             estimator=XGBRegressor(base_score=0.5, booster='gbtree',\n",
       "                                    colsample_bylevel=1, colsample_bynode=1,\n",
       "                                    colsample_bytree=1, gamma=0, gpu_id=-1,\n",
       "                                    importance_type='gain',\n",
       "                                    interaction_constraints='',\n",
       "                                    learning_rate=0.1, max_delta_step=0,\n",
       "                                    max_depth=6, min_child_weight=1,\n",
       "                                    missing=nan, monotone_constraints='()',\n",
       "                                    n_estimators=80, n_jobs=0,\n",
       "                                    num_parallel_tree=1, random_state=0,\n",
       "                                    reg_alpha=0, reg_lambda=1,\n",
       "                                    scale_pos_weight=1, subsample=1,\n",
       "                                    tree_method='exact', validate_parameters=1,\n",
       "                                    verbosity=None),\n",
       "             n_jobs=-1, param_grid=[{'n_estimators': [80, 100, 120]}],\n",
       "             return_train_score=True, scoring='neg_mean_squared_log_error')"
      ]
     },
     "execution_count": 124,
     "metadata": {},
     "output_type": "execute_result"
    }
   ],
   "source": [
    "xgbc_grid.fit(X_train, y_train)"
   ]
  },
  {
   "cell_type": "code",
   "execution_count": 125,
   "metadata": {},
   "outputs": [
    {
     "data": {
      "text/plain": [
       "{'n_estimators': 120}"
      ]
     },
     "execution_count": 125,
     "metadata": {},
     "output_type": "execute_result"
    }
   ],
   "source": [
    "xgbc_grid.best_params_"
   ]
  },
  {
   "cell_type": "code",
   "execution_count": 126,
   "metadata": {},
   "outputs": [
    {
     "data": {
      "text/plain": [
       "{'mean_fit_time': array([0.88421574, 1.16669483, 1.22013841]),\n",
       " 'std_fit_time': array([0.07794311, 0.06192877, 0.07422101]),\n",
       " 'mean_score_time': array([0.01251864, 0.01835957, 0.01397977]),\n",
       " 'std_score_time': array([0.00199861, 0.00502574, 0.0044675 ]),\n",
       " 'param_n_estimators': masked_array(data=[80, 100, 120],\n",
       "              mask=[False, False, False],\n",
       "        fill_value='?',\n",
       "             dtype=object),\n",
       " 'params': [{'n_estimators': 80},\n",
       "  {'n_estimators': 100},\n",
       "  {'n_estimators': 120}],\n",
       " 'split0_test_score': array([-0.01681261, -0.0168442 , -0.01680805]),\n",
       " 'split1_test_score': array([-0.02102365, -0.02053377, -0.02027803]),\n",
       " 'split2_test_score': array([-0.02360143, -0.02342922, -0.02315807]),\n",
       " 'split3_test_score': array([-0.01719118, -0.01708343, -0.01702985]),\n",
       " 'split4_test_score': array([-0.01525307, -0.01500066, -0.01489174]),\n",
       " 'mean_test_score': array([-0.01877639, -0.01857826, -0.01843315]),\n",
       " 'std_test_score': array([0.00306967, 0.00301319, 0.00292849]),\n",
       " 'rank_test_score': array([3, 2, 1]),\n",
       " 'split0_train_score': array([-0.0026626 , -0.00196164, -0.00149505]),\n",
       " 'split1_train_score': array([-0.00318566, -0.00246557, -0.00200643]),\n",
       " 'split2_train_score': array([-0.00263229, -0.00202343, -0.00153237]),\n",
       " 'split3_train_score': array([-0.00210182, -0.00160083, -0.00123639]),\n",
       " 'split4_train_score': array([-0.0031415 , -0.00236181, -0.00182408]),\n",
       " 'mean_train_score': array([-0.00274477, -0.00208266, -0.00161886]),\n",
       " 'std_train_score': array([0.00039612, 0.00030817, 0.00026885])}"
      ]
     },
     "execution_count": 126,
     "metadata": {},
     "output_type": "execute_result"
    }
   ],
   "source": [
    "cvres = xgbc_grid.cv_results_\n",
    "cvres"
   ]
  },
  {
   "cell_type": "code",
   "execution_count": 101,
   "metadata": {},
   "outputs": [
    {
     "data": {
      "text/plain": [
       "XGBRegressor(base_score=0.5, booster='gbtree', colsample_bylevel=1,\n",
       "             colsample_bynode=1, colsample_bytree=1, gamma=0, gpu_id=-1,\n",
       "             importance_type='gain', interaction_constraints='',\n",
       "             learning_rate=0.1, max_delta_step=0, max_depth=6,\n",
       "             min_child_weight=1, missing=nan, monotone_constraints='()',\n",
       "             n_estimators=80, n_jobs=0, num_parallel_tree=1, random_state=0,\n",
       "             reg_alpha=0, reg_lambda=1, scale_pos_weight=1, subsample=1,\n",
       "             tree_method='exact', validate_parameters=1, verbosity=None)"
      ]
     },
     "execution_count": 101,
     "metadata": {},
     "output_type": "execute_result"
    }
   ],
   "source": [
    "xg_boost_reg.fit(X_train, y_train)"
   ]
  },
  {
   "cell_type": "code",
   "execution_count": 102,
   "metadata": {},
   "outputs": [
    {
     "data": {
      "text/plain": [
       "0.9071588881611858"
      ]
     },
     "execution_count": 102,
     "metadata": {},
     "output_type": "execute_result"
    }
   ],
   "source": [
    "xg_boost_reg.score(X_test,y_test)"
   ]
  },
  {
   "cell_type": "markdown",
   "metadata": {},
   "source": [
    "### Predict your outcome on test or validation data for all the models"
   ]
  },
  {
   "cell_type": "code",
   "execution_count": 142,
   "metadata": {},
   "outputs": [],
   "source": [
    "regressor={ 'knn':grid_knn ,\n",
    "             'ridge' : grid_ridge,\n",
    "             'lasso' : grid_lasso,\n",
    "             'polynomial' : grid_poly,\n",
    "             'lsvc':grid_param_svr_linear,\n",
    "             'ksvc':grid_svr_kernel,\n",
    "             'psvc' : grid_param_svr,\n",
    "             'sgd' : grid_sgd,\n",
    "             'elastic' : grid_elasticnet,\n",
    "             'dtree':grid_dtree,\n",
    "             'bag_dtree1':bag_dtree1_grid,\n",
    "             'bag_dtree1':bag_dtree2_grid,\n",
    "             'bag_logreg1':bag_logreg1_grid,\n",
    "            'paste_dtree1': paste_dtree1_grid,\n",
    "             'paste_dtree1':paste_dtree2_grid,\n",
    "             'paste_logreg1': paste_logreg1_grid,\n",
    "             'rfc': rfc_grid,\n",
    "             'etc': etc_grid,\n",
    "             'adc_dtree':adc_dtree_grid,\n",
    "             'gbc': gbc_grid,\n",
    "             'xgbc': xgbc_grid}"
   ]
  },
  {
   "cell_type": "code",
   "execution_count": 143,
   "metadata": {},
   "outputs": [
    {
     "data": {
      "text/plain": [
       "dict_keys(['knn', 'ridge', 'lasso', 'polynomial', 'lsvc', 'ksvc', 'psvc', 'sgd', 'elastic', 'dtree', 'bag_dtree1', 'bag_logreg1', 'paste_dtree1', 'paste_logreg1', 'rfc', 'etc', 'adc_dtree', 'gbc', 'xgbc'])"
      ]
     },
     "execution_count": 143,
     "metadata": {},
     "output_type": "execute_result"
    }
   ],
   "source": [
    "regressor.keys()"
   ]
  },
  {
   "cell_type": "code",
   "execution_count": 144,
   "metadata": {},
   "outputs": [],
   "source": [
    "results_mean_std = []\n",
    "for  key, value in regressor.items():\n",
    "    mean = value.cv_results_['mean_test_score'][value.best_index_]\n",
    "    std=value.cv_results_['std_test_score'][value.best_index_]\n",
    "     \n",
    "    results_mean_std.append({\n",
    "        \"model\": key,\n",
    "        \"mean\": mean,\n",
    "        \"std\": std\n",
    "    })"
   ]
  },
  {
   "cell_type": "code",
   "execution_count": 145,
   "metadata": {},
   "outputs": [],
   "source": [
    "# Create a Pandas DataFrame with the mean+std results\n",
    "accuracy_df = pd.DataFrame(results_mean_std, columns=['model', 'mean', 'std'])\n"
   ]
  },
  {
   "cell_type": "code",
   "execution_count": 146,
   "metadata": {},
   "outputs": [
    {
     "data": {
      "text/html": [
       "<div>\n",
       "<style scoped>\n",
       "    .dataframe tbody tr th:only-of-type {\n",
       "        vertical-align: middle;\n",
       "    }\n",
       "\n",
       "    .dataframe tbody tr th {\n",
       "        vertical-align: top;\n",
       "    }\n",
       "\n",
       "    .dataframe thead th {\n",
       "        text-align: right;\n",
       "    }\n",
       "</style>\n",
       "<table border=\"1\" class=\"dataframe\">\n",
       "  <thead>\n",
       "    <tr style=\"text-align: right;\">\n",
       "      <th></th>\n",
       "      <th>model</th>\n",
       "      <th>mean</th>\n",
       "      <th>std</th>\n",
       "    </tr>\n",
       "  </thead>\n",
       "  <tbody>\n",
       "    <tr>\n",
       "      <th>10</th>\n",
       "      <td>bag_dtree1</td>\n",
       "      <td>8.875567e-01</td>\n",
       "      <td>9.591229e-03</td>\n",
       "    </tr>\n",
       "    <tr>\n",
       "      <th>11</th>\n",
       "      <td>bag_logreg1</td>\n",
       "      <td>8.875567e-01</td>\n",
       "      <td>9.591229e-03</td>\n",
       "    </tr>\n",
       "    <tr>\n",
       "      <th>4</th>\n",
       "      <td>lsvc</td>\n",
       "      <td>8.863164e-01</td>\n",
       "      <td>2.357276e-02</td>\n",
       "    </tr>\n",
       "    <tr>\n",
       "      <th>2</th>\n",
       "      <td>lasso</td>\n",
       "      <td>8.850592e-01</td>\n",
       "      <td>8.022970e-03</td>\n",
       "    </tr>\n",
       "    <tr>\n",
       "      <th>13</th>\n",
       "      <td>paste_logreg1</td>\n",
       "      <td>8.850592e-01</td>\n",
       "      <td>8.022970e-03</td>\n",
       "    </tr>\n",
       "    <tr>\n",
       "      <th>8</th>\n",
       "      <td>elastic</td>\n",
       "      <td>8.837650e-01</td>\n",
       "      <td>1.027149e-02</td>\n",
       "    </tr>\n",
       "    <tr>\n",
       "      <th>1</th>\n",
       "      <td>ridge</td>\n",
       "      <td>8.837503e-01</td>\n",
       "      <td>1.023225e-02</td>\n",
       "    </tr>\n",
       "    <tr>\n",
       "      <th>5</th>\n",
       "      <td>ksvc</td>\n",
       "      <td>8.717929e-01</td>\n",
       "      <td>7.380024e-03</td>\n",
       "    </tr>\n",
       "    <tr>\n",
       "      <th>0</th>\n",
       "      <td>knn</td>\n",
       "      <td>8.341419e-01</td>\n",
       "      <td>1.801087e-02</td>\n",
       "    </tr>\n",
       "    <tr>\n",
       "      <th>6</th>\n",
       "      <td>psvc</td>\n",
       "      <td>8.059713e-01</td>\n",
       "      <td>5.251179e-02</td>\n",
       "    </tr>\n",
       "    <tr>\n",
       "      <th>9</th>\n",
       "      <td>dtree</td>\n",
       "      <td>7.582535e-01</td>\n",
       "      <td>2.271145e-02</td>\n",
       "    </tr>\n",
       "    <tr>\n",
       "      <th>12</th>\n",
       "      <td>paste_dtree1</td>\n",
       "      <td>7.333187e-01</td>\n",
       "      <td>3.063335e-02</td>\n",
       "    </tr>\n",
       "    <tr>\n",
       "      <th>7</th>\n",
       "      <td>sgd</td>\n",
       "      <td>7.032010e-01</td>\n",
       "      <td>6.501420e-02</td>\n",
       "    </tr>\n",
       "    <tr>\n",
       "      <th>18</th>\n",
       "      <td>xgbc</td>\n",
       "      <td>-1.843315e-02</td>\n",
       "      <td>2.928489e-03</td>\n",
       "    </tr>\n",
       "    <tr>\n",
       "      <th>17</th>\n",
       "      <td>gbc</td>\n",
       "      <td>-1.905816e-02</td>\n",
       "      <td>3.005471e-03</td>\n",
       "    </tr>\n",
       "    <tr>\n",
       "      <th>15</th>\n",
       "      <td>etc</td>\n",
       "      <td>-1.999873e-02</td>\n",
       "      <td>4.018020e-03</td>\n",
       "    </tr>\n",
       "    <tr>\n",
       "      <th>14</th>\n",
       "      <td>rfc</td>\n",
       "      <td>-2.010904e-02</td>\n",
       "      <td>3.617327e-03</td>\n",
       "    </tr>\n",
       "    <tr>\n",
       "      <th>16</th>\n",
       "      <td>adc_dtree</td>\n",
       "      <td>-4.379309e-02</td>\n",
       "      <td>4.706838e-03</td>\n",
       "    </tr>\n",
       "    <tr>\n",
       "      <th>3</th>\n",
       "      <td>polynomial</td>\n",
       "      <td>-3.062169e+22</td>\n",
       "      <td>2.217288e+22</td>\n",
       "    </tr>\n",
       "  </tbody>\n",
       "</table>\n",
       "</div>"
      ],
      "text/plain": [
       "            model          mean           std\n",
       "10     bag_dtree1  8.875567e-01  9.591229e-03\n",
       "11    bag_logreg1  8.875567e-01  9.591229e-03\n",
       "4            lsvc  8.863164e-01  2.357276e-02\n",
       "2           lasso  8.850592e-01  8.022970e-03\n",
       "13  paste_logreg1  8.850592e-01  8.022970e-03\n",
       "8         elastic  8.837650e-01  1.027149e-02\n",
       "1           ridge  8.837503e-01  1.023225e-02\n",
       "5            ksvc  8.717929e-01  7.380024e-03\n",
       "0             knn  8.341419e-01  1.801087e-02\n",
       "6            psvc  8.059713e-01  5.251179e-02\n",
       "9           dtree  7.582535e-01  2.271145e-02\n",
       "12   paste_dtree1  7.333187e-01  3.063335e-02\n",
       "7             sgd  7.032010e-01  6.501420e-02\n",
       "18           xgbc -1.843315e-02  2.928489e-03\n",
       "17            gbc -1.905816e-02  3.005471e-03\n",
       "15            etc -1.999873e-02  4.018020e-03\n",
       "14            rfc -2.010904e-02  3.617327e-03\n",
       "16      adc_dtree -4.379309e-02  4.706838e-03\n",
       "3      polynomial -3.062169e+22  2.217288e+22"
      ]
     },
     "execution_count": 146,
     "metadata": {},
     "output_type": "execute_result"
    }
   ],
   "source": [
    "# Show the accuracy dataframe\n",
    "\n",
    "accuracy_df.sort_values(by=['mean'], inplace=True,ascending=False)\n",
    "accuracy_df"
   ]
  },
  {
   "cell_type": "code",
   "execution_count": 149,
   "metadata": {},
   "outputs": [],
   "source": [
    "# Create a prediction of all models on the test set\n",
    "predictions_all = {}\n",
    "for  key, value in regressor.items():\n",
    "    # Get best estimator\n",
    "    best_model = value.best_estimator_\n",
    "    \n",
    "    # Predict test labels\n",
    "    predictions = best_model.predict(X_test)\n",
    "    \n",
    "    # Save predictions to a list\n",
    "    predictions_all[key] = predictions"
   ]
  },
  {
   "cell_type": "markdown",
   "metadata": {},
   "source": [
    "### Create a correlation matrix for prediction from all the models "
   ]
  },
  {
   "cell_type": "code",
   "execution_count": 150,
   "metadata": {},
   "outputs": [],
   "source": [
    "# Create a DataFrame for the predictions\n",
    "pred = pd.DataFrame(predictions_all)"
   ]
  },
  {
   "cell_type": "code",
   "execution_count": 151,
   "metadata": {},
   "outputs": [
    {
     "data": {
      "text/plain": [
       "Text(0.5, 1, 'Correlation of the test set label prediction between models')"
      ]
     },
     "execution_count": 151,
     "metadata": {},
     "output_type": "execute_result"
    },
    {
     "data": {
      "image/png": "[encoded data removed]",
      "text/plain": [
       "<Figure size 648x432 with 2 Axes>"
      ]
     },
     "metadata": {
      "needs_background": "light"
     },
     "output_type": "display_data"
    }
   ],
   "source": [
    "# Plot a heatmap of all correlations for easier visualization\n",
    "fig, ax = plt.subplots(nrows=1, ncols=1, figsize=(9,6))\n",
    "g = sns.heatmap(pred.corr(), annot=True, cmap='coolwarm', ax=ax)\n",
    "g.set_title('Correlation of the test set label prediction between models')"
   ]
  },
  {
   "cell_type": "code",
   "execution_count": 152,
   "metadata": {},
   "outputs": [],
   "source": [
    "def get_redundant_pairs(df):\n",
    "    '''Get diagonal and lower triangular pairs of correlation matrix'''\n",
    "    pairs_to_drop = set()\n",
    "    cols = df.columns\n",
    "    for i in range(0, df.shape[1]):\n",
    "        for j in range(0, i+1):\n",
    "            pairs_to_drop.add((cols[i], cols[j]))\n",
    "    return pairs_to_drop\n",
    "\n",
    "def get_bottom_abs_correlations(df, n=5):\n",
    "    au_corr = df.corr().abs().unstack()\n",
    "    labels_to_drop = get_redundant_pairs(df)\n",
    "    au_corr = au_corr.drop(labels=labels_to_drop).sort_values(ascending=True)\n",
    "    return au_corr[0:n]\n"
   ]
  },
  {
   "cell_type": "code",
   "execution_count": 153,
   "metadata": {},
   "outputs": [
    {
     "name": "stdout",
     "output_type": "stream",
     "text": [
      "Bottom Absolute Correlations\n",
      "polynomial  sgd             0.188748\n",
      "            paste_dtree1    0.230804\n",
      "knn         polynomial      0.249579\n",
      "polynomial  ksvc            0.269516\n",
      "            elastic         0.270456\n",
      "dtype: float64\n"
     ]
    }
   ],
   "source": [
    "print(\"Bottom Absolute Correlations\")\n",
    "print(get_bottom_abs_correlations(pred, 5))"
   ]
  },
  {
   "cell_type": "markdown",
   "metadata": {},
   "source": [
    "### Use Voting Regressor to combine results of top 5 models (all the models including models you ran for HW2) "
   ]
  },
  {
   "cell_type": "code",
   "execution_count": 157,
   "metadata": {},
   "outputs": [],
   "source": [
    "from sklearn.ensemble import VotingRegressor"
   ]
  },
  {
   "cell_type": "code",
   "execution_count": 163,
   "metadata": {},
   "outputs": [
    {
     "data": {
      "text/plain": [
       "GridSearchCV(cv=5,\n",
       "             estimator=VotingRegressor(estimators=[('bag_dtree1',\n",
       "                                                    BaggingRegressor(base_estimator=DecisionTreeRegressor(max_depth=9),\n",
       "                                                                     max_samples=0.8,\n",
       "                                                                     n_estimators=100,\n",
       "                                                                     oob_score=True,\n",
       "                                                                     random_state=0)),\n",
       "                                                   ('lasso',\n",
       "                                                    Lasso(alpha=500,\n",
       "                                                          random_state=0)),\n",
       "                                                   ('lsvc',\n",
       "                                                    LinearSVR(C=3000,\n",
       "                                                              max_iter=10000)),\n",
       "                                                   ('paste_logreg1',\n",
       "                                                    BaggingRegressor(base_estimator=Lasso(alpha=500),\n",
       "                                                                     bootstrap=False,\n",
       "                                                                     random_state=0)),\n",
       "                                                   ('bag_logreg1',\n",
       "                                                    BaggingRegressor(base_estimator=Lasso(alpha=500),\n",
       "                                                                     oob_score=True,\n",
       "                                                                     random_state=0))]),\n",
       "             param_grid={}, return_train_score=True)"
      ]
     },
     "execution_count": 163,
     "metadata": {},
     "output_type": "execute_result"
    }
   ],
   "source": [
    "vclf1 = VotingRegressor(estimators=\n",
    "                              [('bag_dtree1', bag_dtree1_grid.best_estimator_), \n",
    "                               ('lasso', grid_lasso.best_estimator_), \n",
    "                               ('lsvc', grid_param_svr_linear.best_estimator_),\n",
    "                               ('paste_logreg1', paste_logreg1_grid.best_estimator_),\n",
    "                               ('bag_logreg1', bag_logreg1_grid.best_estimator_)\n",
    "                              ])\n",
    "vclf1_param = {}\n",
    "vclf1_grid = GridSearchCV(vclf1, vclf1_param,cv=5, return_train_score=True, )\n",
    "vclf1_grid.fit(X_train,y_train)\n"
   ]
  },
  {
   "cell_type": "code",
   "execution_count": 164,
   "metadata": {},
   "outputs": [
    {
     "name": "stdout",
     "output_type": "stream",
     "text": [
      "Best Mean Cross Validation Score is 0.8912373330097243\n",
      "Best Mean Cross Validation Score is {}\n",
      "Train score is 0.9245561589083415\n",
      "Test score is 0.8824788875829973\n"
     ]
    }
   ],
   "source": [
    "print(f'Best Mean Cross Validation Score is {vclf1_grid.best_score_}')\n",
    "print(f'Best Mean Cross Validation Score is {vclf1_grid.best_params_}')\n",
    "print(f'Train score is {vclf1_grid.score(X_train,y_train)}')\n",
    "print(f'Test score is {vclf1_grid.score(X_test,y_test)}')"
   ]
  },
  {
   "cell_type": "code",
   "execution_count": 165,
   "metadata": {},
   "outputs": [
    {
     "data": {
      "text/plain": [
       "GridSearchCV(cv=5,\n",
       "             estimator=VotingRegressor(estimators=[('bag_dtree1',\n",
       "                                                    BaggingRegressor(base_estimator=DecisionTreeRegressor(max_depth=9),\n",
       "                                                                     max_samples=0.8,\n",
       "                                                                     n_estimators=100,\n",
       "                                                                     oob_score=True,\n",
       "                                                                     random_state=0)),\n",
       "                                                   ('lasso',\n",
       "                                                    Lasso(alpha=500,\n",
       "                                                          random_state=0)),\n",
       "                                                   ('lsvc',\n",
       "                                                    LinearSVR(C=3000,\n",
       "                                                              max_iter=10000)),\n",
       "                                                   ('paste_logreg1',\n",
       "                                                    BaggingRegressor(base_estimator=Lasso(alpha=500),\n",
       "                                                                     bootstrap=False,\n",
       "                                                                     random_state=0)),\n",
       "                                                   ('bag_logreg1',\n",
       "                                                    BaggingRegressor(base_estimator=Lasso(alpha=500),\n",
       "                                                                     oob_score=True,\n",
       "                                                                     random_state=0))]),\n",
       "             param_grid={}, return_train_score=True)"
      ]
     },
     "execution_count": 165,
     "metadata": {},
     "output_type": "execute_result"
    }
   ],
   "source": [
    "vclf2 = VotingRegressor(estimators=\n",
    "                              [('bag_dtree1', bag_dtree1_grid.best_estimator_), \n",
    "                               ('lasso', grid_lasso.best_estimator_), \n",
    "                               ('lsvc', grid_param_svr_linear.best_estimator_),\n",
    "                               ('paste_logreg1', paste_logreg1_grid.best_estimator_),\n",
    "                               ('bag_logreg1', bag_logreg1_grid.best_estimator_)\n",
    "                              ])\n",
    "vclf2_param = {}\n",
    "vclf2_grid = GridSearchCV(vclf2, vclf2_param,cv=5, return_train_score=True, )\n",
    "vclf2_grid.fit(X_train,y_train)"
   ]
  },
  {
   "cell_type": "code",
   "execution_count": 166,
   "metadata": {},
   "outputs": [
    {
     "name": "stdout",
     "output_type": "stream",
     "text": [
      "Best Mean Cross Validation Score is 0.8912667567662599\n",
      "Best Mean Cross Validation Score is {}\n",
      "Train score is 0.924557204401675\n",
      "Test score is 0.8824220469616125\n"
     ]
    }
   ],
   "source": [
    "print(f'Best Mean Cross Validation Score is {vclf2_grid.best_score_}')\n",
    "print(f'Best Mean Cross Validation Score is {vclf2_grid.best_params_}')\n",
    "print(f'Train score is {vclf2_grid.score(X_train,y_train)}')\n",
    "print(f'Test score is {vclf2_grid.score(X_test,y_test)}')"
   ]
  },
  {
   "cell_type": "markdown",
   "metadata": {},
   "source": [
    "### Use Voting Regressor to combine results of  models with least correlation."
   ]
  },
  {
   "cell_type": "code",
   "execution_count": 173,
   "metadata": {},
   "outputs": [
    {
     "data": {
      "text/plain": [
       "GridSearchCV(cv=5,\n",
       "             estimator=VotingRegressor(estimators=[('paste_dtree1',\n",
       "                                                    BaggingRegressor(base_estimator=DecisionTreeRegressor(max_depth=9),\n",
       "                                                                     bootstrap=False,\n",
       "                                                                     max_samples=0.8,\n",
       "                                                                     n_estimators=100,\n",
       "                                                                     random_state=0)),\n",
       "                                                   ('polynomial',\n",
       "                                                    Pipeline(steps=[('polynomialfeatures',\n",
       "                                                                     PolynomialFeatures(interaction_only='True')),\n",
       "                                                                    ('linearregression',\n",
       "                                                                     LinearRegression())])),\n",
       "                                                   ('ksvc',\n",
       "                                                    SVR(C=42000, gamma=0.003,\n",
       "                                                        kernel='sigmoid')),\n",
       "                                                   ('knn',\n",
       "                                                    KNeighborsRegressor(metric='manhattan')),\n",
       "                                                   ('sgd',\n",
       "                                                    SGDRegressor(alpha=10,\n",
       "                                                                 eta0=0.06,\n",
       "                                                                 max_iter=10000))]),\n",
       "             param_grid={}, return_train_score=True)"
      ]
     },
     "execution_count": 173,
     "metadata": {},
     "output_type": "execute_result"
    }
   ],
   "source": [
    "vclf3 = VotingRegressor(estimators=\n",
    "                              [('paste_dtree1', paste_dtree1_grid.best_estimator_), \n",
    "                               ('polynomial' , grid_poly.best_estimator_),\n",
    "                               ('ksvc', grid_svr_kernel.best_estimator_),\n",
    "                               ('knn', grid_knn.best_estimator_),\n",
    "                               ('sgd' ,grid_sgd.best_estimator_)\n",
    "                              ])\n",
    "vclf3_param = {}\n",
    "vclf3_grid = GridSearchCV(vclf3, vclf3_param,cv=5, return_train_score=True, )\n",
    "vclf3_grid.fit(X_train,y_train)"
   ]
  },
  {
   "cell_type": "code",
   "execution_count": 174,
   "metadata": {},
   "outputs": [
    {
     "name": "stdout",
     "output_type": "stream",
     "text": [
      "Best Mean Cross Validation Score is -1.224867564563427e+21\n",
      "Best Mean Cross Validation Score is {}\n",
      "Train score is 0.9402878991085026\n",
      "Test score is -9.951983040711087e+20\n"
     ]
    }
   ],
   "source": [
    "print(f'Best Mean Cross Validation Score is {vclf3_grid.best_score_}')\n",
    "print(f'Best Mean Cross Validation Score is {vclf3_grid.best_params_}')\n",
    "print(f'Train score is {vclf3_grid.score(X_train,y_train)}')\n",
    "print(f'Test score is {vclf3_grid.score(X_test,y_test)}')"
   ]
  },
  {
   "cell_type": "markdown",
   "metadata": {},
   "source": [
    "### Use Stacking Regressor to combine results of top 5 models (all the models including models you ran for HW2)"
   ]
  },
  {
   "cell_type": "code",
   "execution_count": 169,
   "metadata": {},
   "outputs": [],
   "source": [
    "from sklearn.ensemble import StackingRegressor"
   ]
  },
  {
   "cell_type": "code",
   "execution_count": 178,
   "metadata": {},
   "outputs": [
    {
     "data": {
      "text/plain": [
       "GridSearchCV(cv=5,\n",
       "             estimator=StackingRegressor(estimators=[('bag_dtree1',\n",
       "                                                      BaggingRegressor(base_estimator=DecisionTreeRegressor(max_depth=9),\n",
       "                                                                       max_samples=0.8,\n",
       "                                                                       n_estimators=100,\n",
       "                                                                       oob_score=True,\n",
       "                                                                       random_state=0)),\n",
       "                                                     ('lasso',\n",
       "                                                      Lasso(alpha=500,\n",
       "                                                            random_state=0)),\n",
       "                                                     ('lsvc',\n",
       "                                                      LinearSVR(C=3000,\n",
       "                                                                max_iter=10000)),\n",
       "                                                     ('paste_logreg1',\n",
       "                                                      BaggingRegressor(base_estimator=Lasso(alpha=5...\n",
       "                                                                      interaction_constraints=None,\n",
       "                                                                      learning_rate=None,\n",
       "                                                                      max_delta_step=None,\n",
       "                                                                      max_depth=None,\n",
       "                                                                      min_child_weight=None,\n",
       "                                                                      missing=nan,\n",
       "                                                                      monotone_constraints=None,\n",
       "                                                                      n_estimators=100,\n",
       "                                                                      n_jobs=None,\n",
       "                                                                      num_parallel_tree=None,\n",
       "                                                                      random_state=None,\n",
       "                                                                      reg_alpha=None,\n",
       "                                                                      reg_lambda=None,\n",
       "                                                                      scale_pos_weight=None,\n",
       "                                                                      subsample=None,\n",
       "                                                                      tree_method=None,\n",
       "                                                                      validate_parameters=None,\n",
       "                                                                      verbosity=None)),\n",
       "             param_grid={}, return_train_score=True)"
      ]
     },
     "execution_count": 178,
     "metadata": {},
     "output_type": "execute_result"
    }
   ],
   "source": [
    "sclf1 = StackingRegressor(estimators=\n",
    "                              [('bag_dtree1', bag_dtree1_grid.best_estimator_), \n",
    "                               ('lasso', grid_lasso.best_estimator_), \n",
    "                               ('lsvc', grid_param_svr_linear.best_estimator_),\n",
    "                               ('paste_logreg1', paste_logreg1_grid.best_estimator_),\n",
    "                               ('bag_logreg1', bag_logreg1_grid.best_estimator_)\n",
    "                              ], final_estimator=XGBRegressor())\n",
    "sclf1_param = {}            \n",
    "sclf1_grid = GridSearchCV(sclf1, sclf1_param,cv=5, return_train_score=True, )\n",
    "sclf1_grid.fit(X_train,y_train)"
   ]
  },
  {
   "cell_type": "code",
   "execution_count": 179,
   "metadata": {},
   "outputs": [
    {
     "name": "stdout",
     "output_type": "stream",
     "text": [
      "Best Mean Cross Validation Score is 0.8192673347048245\n",
      "Best Mean Cross Validation Score is {}\n",
      "Train score is 0.9089649260328002\n",
      "Test score is 0.8909787231834181\n"
     ]
    }
   ],
   "source": [
    "print(f'Best Mean Cross Validation Score is {sclf1_grid.best_score_}')\n",
    "print(f'Best Mean Cross Validation Score is {sclf1_grid.best_params_}')\n",
    "print(f'Train score is {sclf1_grid.score(X_train,y_train)}')\n",
    "print(f'Test score is {sclf1_grid.score(X_test,y_test)}')"
   ]
  },
  {
   "cell_type": "markdown",
   "metadata": {},
   "source": [
    "### Use Stacking Regressor to combine results of  models with least correlation. "
   ]
  },
  {
   "cell_type": "code",
   "execution_count": null,
   "metadata": {},
   "outputs": [],
   "source": [
    "sclf2 = StackingRegressor(estimators=\n",
    "                              [('paste_dtree1', paste_dtree1_grid.best_estimator_), \n",
    "                               ('polynomial' , grid_poly.best_estimator_),\n",
    "                               ('ksvc', grid_svr_kernel.best_estimator_),\n",
    "                               ('knn', grid_knn.best_estimator_),\n",
    "                               ('sgd' ,grid_sgd.best_estimator_)\n",
    "                              ], \n",
    "                           final_estimator=\n",
    "                           XGBRegressor(random_state=42))\n",
    "sclf2_param = { }\n",
    "sclf2_grid = GridSearchCV(sclf2, sclf2_param,cv=5, return_train_score=True, )\n",
    "sclf2_grid.fit(X_train,y_train)"
   ]
  },
  {
   "cell_type": "code",
   "execution_count": null,
   "metadata": {},
   "outputs": [],
   "source": [
    "print(f'Best Mean Cross Validation Score is {sclf2_grid.best_score_}')\n",
    "print(f'Best Mean Cross Validation Score is {sclf2_grid.best_params_}')\n",
    "print(f'Train score is {sclf2_grid.score(X_train,y_train)}')\n",
    "print(f'Test score is {sclf2_grid.score(X_test,y_test)}')"
   ]
  },
  {
   "cell_type": "markdown",
   "metadata": {},
   "source": [
    "### Models used with hyperparameters :\n",
    "\n",
    "Linear Regression\n",
    "\n",
    "KNN Regression(No. of neighbors and metric)\n",
    "\n",
    "Ridge (Alpha)\n",
    "\n",
    "Lasso (Alpha)\n",
    "\n",
    "Polynomial Regression( polynomialfeatures__degree,polynomialfeatures__interaction_only)\n",
    "\n",
    "SVM Models : Linear (C)\n",
    "             rbf (C, gamma)\n",
    "             Sigmoid (C, gamma)\n",
    "             Polynomial (C, degree, gamma)\n",
    "             \n",
    "Decision Tree (max_depth, splitter)\n",
    "\n",
    "Stochastic Gradient Descent (eta, penalty, alpha)\n",
    "\n",
    "Elastic Net (Alpha, L1 ratio)\n",
    "\n",
    "Bagging : Decision Tree (base_estimator__max_depth,max_samples, n_estimators)\n",
    "          Lasso Regression (base_estimator__alpha)\n",
    "          \n",
    "Pasting : Decision Tree (base_estimator__max_depth,max_samples, n_estimators)\n",
    "          Logistic Regression (base_estimator__alpha)\n",
    "          \n",
    "Random Forests (n_estimators, max_features,max_depth,criterion)\n",
    "\n",
    "Ada Boost (base_estimator__criterion, base_estimator__splitter,base_estimator__max_depth, n_estimators,learning_rate)\n",
    "\n",
    "Gradient Boost (max_depth, n_estimators, learning_rate)\n",
    "\n",
    "Extra Trees (n_estimators,max_features, max_depth,criterion)\n",
    "\n",
    "XG Boost ('max_depth,n_estimators,learning_rate,min_child_weight,subsample)\n",
    "              \n",
    "### XGBoost Classifier is the best model as the cross validation score is high and the difference between train score and test score is less.\n",
    "\n",
    "Best model based on Scoring Method = Accuracy\n",
    "\n",
    "The best model choosen based on CV score (0.85) is : XG Boost.\n",
    "\n",
    "Best Mean Cross Validation Score is 0.9071588881611858\n",
    "\n",
    "Parameters for the model {n_estimators=80, max_depth=6, learning_rate=0.1, objective='reg:squarederror'}\n",
    "\n",
    "Train score is 0.9089649260328002\n",
    "\n",
    "Test score is 0.8909787231834181"
   ]
  }
 ],
 "metadata": {
  "kernelspec": {
   "display_name": "Python 3",
   "language": "python",
   "name": "python3"
  },
  "language_info": {
   "codemirror_mode": {
    "name": "ipython",
    "version": 3
   },
   "file_extension": ".py",
   "mimetype": "text/x-python",
   "name": "python",
   "nbconvert_exporter": "python",
   "pygments_lexer": "ipython3",
   "version": "3.7.4"
  }
 },
 "nbformat": 4,
 "nbformat_minor": 2
}
